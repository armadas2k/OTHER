{
 "cells": [
  {
   "cell_type": "markdown",
   "id": "a7943e9f",
   "metadata": {},
   "source": [
    "# Лабораторная яработа 2. Подготовка исходных данных"
   ]
  },
  {
   "cell_type": "code",
   "execution_count": 1,
   "id": "85741a80",
   "metadata": {},
   "outputs": [],
   "source": [
    "# импорт библиотек\n",
    "\n",
    "import pandas as pd\n",
    "import numpy as np\n",
    "import seaborn as sns\n",
    "import matplotlib.pyplot as plt\n",
    "plt.style.use('fivethirtyeight')"
   ]
  },
  {
   "cell_type": "markdown",
   "id": "5cebd84b",
   "metadata": {},
   "source": [
    "### Создать датафрейм вставить в негго пропущенные значения"
   ]
  },
  {
   "cell_type": "code",
   "execution_count": 2,
   "id": "f67af910",
   "metadata": {},
   "outputs": [
    {
     "data": {
      "text/html": [
       "<div>\n",
       "<style scoped>\n",
       "    .dataframe tbody tr th:only-of-type {\n",
       "        vertical-align: middle;\n",
       "    }\n",
       "\n",
       "    .dataframe tbody tr th {\n",
       "        vertical-align: top;\n",
       "    }\n",
       "\n",
       "    .dataframe thead th {\n",
       "        text-align: right;\n",
       "    }\n",
       "</style>\n",
       "<table border=\"1\" class=\"dataframe\">\n",
       "  <thead>\n",
       "    <tr style=\"text-align: right;\">\n",
       "      <th></th>\n",
       "      <th>A</th>\n",
       "      <th>B</th>\n",
       "      <th>C</th>\n",
       "      <th>D</th>\n",
       "    </tr>\n",
       "  </thead>\n",
       "  <tbody>\n",
       "    <tr>\n",
       "      <th>0</th>\n",
       "      <td>0.629084</td>\n",
       "      <td>0.461039</td>\n",
       "      <td>0.796415</td>\n",
       "      <td>0.694329</td>\n",
       "    </tr>\n",
       "    <tr>\n",
       "      <th>1</th>\n",
       "      <td>0.056633</td>\n",
       "      <td>0.073639</td>\n",
       "      <td>0.976549</td>\n",
       "      <td>0.032116</td>\n",
       "    </tr>\n",
       "    <tr>\n",
       "      <th>2</th>\n",
       "      <td>0.907326</td>\n",
       "      <td>0.737540</td>\n",
       "      <td>0.231468</td>\n",
       "      <td>0.827432</td>\n",
       "    </tr>\n",
       "    <tr>\n",
       "      <th>3</th>\n",
       "      <td>0.222677</td>\n",
       "      <td>0.043634</td>\n",
       "      <td>0.353213</td>\n",
       "      <td>0.208231</td>\n",
       "    </tr>\n",
       "    <tr>\n",
       "      <th>4</th>\n",
       "      <td>0.827523</td>\n",
       "      <td>0.124034</td>\n",
       "      <td>0.634093</td>\n",
       "      <td>0.706020</td>\n",
       "    </tr>\n",
       "    <tr>\n",
       "      <th>...</th>\n",
       "      <td>...</td>\n",
       "      <td>...</td>\n",
       "      <td>...</td>\n",
       "      <td>...</td>\n",
       "    </tr>\n",
       "    <tr>\n",
       "      <th>995</th>\n",
       "      <td>0.874092</td>\n",
       "      <td>0.611661</td>\n",
       "      <td>0.227636</td>\n",
       "      <td>0.735238</td>\n",
       "    </tr>\n",
       "    <tr>\n",
       "      <th>996</th>\n",
       "      <td>0.567611</td>\n",
       "      <td>0.827455</td>\n",
       "      <td>0.042101</td>\n",
       "      <td>0.388884</td>\n",
       "    </tr>\n",
       "    <tr>\n",
       "      <th>997</th>\n",
       "      <td>0.904178</td>\n",
       "      <td>0.492866</td>\n",
       "      <td>0.263354</td>\n",
       "      <td>0.004579</td>\n",
       "    </tr>\n",
       "    <tr>\n",
       "      <th>998</th>\n",
       "      <td>0.271659</td>\n",
       "      <td>0.774527</td>\n",
       "      <td>0.528367</td>\n",
       "      <td>0.624659</td>\n",
       "    </tr>\n",
       "    <tr>\n",
       "      <th>999</th>\n",
       "      <td>0.367161</td>\n",
       "      <td>0.757002</td>\n",
       "      <td>0.764475</td>\n",
       "      <td>0.477196</td>\n",
       "    </tr>\n",
       "  </tbody>\n",
       "</table>\n",
       "<p>1000 rows × 4 columns</p>\n",
       "</div>"
      ],
      "text/plain": [
       "            A         B         C         D\n",
       "0    0.629084  0.461039  0.796415  0.694329\n",
       "1    0.056633  0.073639  0.976549  0.032116\n",
       "2    0.907326  0.737540  0.231468  0.827432\n",
       "3    0.222677  0.043634  0.353213  0.208231\n",
       "4    0.827523  0.124034  0.634093  0.706020\n",
       "..        ...       ...       ...       ...\n",
       "995  0.874092  0.611661  0.227636  0.735238\n",
       "996  0.567611  0.827455  0.042101  0.388884\n",
       "997  0.904178  0.492866  0.263354  0.004579\n",
       "998  0.271659  0.774527  0.528367  0.624659\n",
       "999  0.367161  0.757002  0.764475  0.477196\n",
       "\n",
       "[1000 rows x 4 columns]"
      ]
     },
     "execution_count": 2,
     "metadata": {},
     "output_type": "execute_result"
    }
   ],
   "source": [
    "df=pd.DataFrame(np.random.rand(1000, 4), columns=list('ABCD'))\n",
    "df"
   ]
  },
  {
   "cell_type": "code",
   "execution_count": 3,
   "id": "3d75b7d9",
   "metadata": {},
   "outputs": [],
   "source": [
    "# Будем работать с копией датафрейма\n",
    "df1=df.copy()"
   ]
  },
  {
   "cell_type": "code",
   "execution_count": 4,
   "id": "1eb77082",
   "metadata": {},
   "outputs": [],
   "source": [
    "# вставим пропущенные занчения для этого будем использовать срез по строкам\n",
    "\n",
    "df1[45 : 161] = np.nan"
   ]
  },
  {
   "cell_type": "code",
   "execution_count": 5,
   "id": "c84007c5",
   "metadata": {},
   "outputs": [
    {
     "data": {
      "text/plain": [
       "A    0.116\n",
       "B    0.116\n",
       "C    0.116\n",
       "D    0.116\n",
       "dtype: float64"
      ]
     },
     "execution_count": 5,
     "metadata": {},
     "output_type": "execute_result"
    }
   ],
   "source": [
    "# Проверим вставились ли у нас пропущенные значения\n",
    "df1.isna().mean()"
   ]
  },
  {
   "cell_type": "markdown",
   "id": "d8cd5b14",
   "metadata": {},
   "source": [
    "Как видим пропущенных значений в датафрейме около 11.6%"
   ]
  },
  {
   "cell_type": "markdown",
   "id": "8ec1ca26",
   "metadata": {},
   "source": [
    "### задание 2. замена пропущенных значений"
   ]
  },
  {
   "cell_type": "markdown",
   "id": "63941ae4",
   "metadata": {},
   "source": [
    "### Метод fillna"
   ]
  },
  {
   "cell_type": "code",
   "execution_count": 6,
   "id": "65cf6443",
   "metadata": {},
   "outputs": [],
   "source": [
    "# Заменим значения трех столбцов средним, медианой и нулем\n",
    "df1 = df1.fillna(value={'A': df['A'].mean(), \n",
    "                       'B': df['B'].median(),\n",
    "                       'D': 0})\n"
   ]
  },
  {
   "cell_type": "code",
   "execution_count": 7,
   "id": "b96305d6",
   "metadata": {},
   "outputs": [],
   "source": [
    "# Заменим значения в столбце D не пропущенными предудущими значениями\n",
    "df1 = df1.fillna(method='ffill')"
   ]
  },
  {
   "cell_type": "markdown",
   "id": "0f70446f",
   "metadata": {},
   "source": [
    "#### Проверим все ли у нас заменилось"
   ]
  },
  {
   "cell_type": "code",
   "execution_count": 8,
   "id": "e2998c70",
   "metadata": {},
   "outputs": [
    {
     "data": {
      "text/html": [
       "<div>\n",
       "<style scoped>\n",
       "    .dataframe tbody tr th:only-of-type {\n",
       "        vertical-align: middle;\n",
       "    }\n",
       "\n",
       "    .dataframe tbody tr th {\n",
       "        vertical-align: top;\n",
       "    }\n",
       "\n",
       "    .dataframe thead th {\n",
       "        text-align: right;\n",
       "    }\n",
       "</style>\n",
       "<table border=\"1\" class=\"dataframe\">\n",
       "  <thead>\n",
       "    <tr style=\"text-align: right;\">\n",
       "      <th></th>\n",
       "      <th>A</th>\n",
       "      <th>B</th>\n",
       "      <th>C</th>\n",
       "      <th>D</th>\n",
       "    </tr>\n",
       "  </thead>\n",
       "  <tbody>\n",
       "    <tr>\n",
       "      <th>45</th>\n",
       "      <td>0.503227</td>\n",
       "      <td>0.508786</td>\n",
       "      <td>0.9965</td>\n",
       "      <td>0.0</td>\n",
       "    </tr>\n",
       "    <tr>\n",
       "      <th>46</th>\n",
       "      <td>0.503227</td>\n",
       "      <td>0.508786</td>\n",
       "      <td>0.9965</td>\n",
       "      <td>0.0</td>\n",
       "    </tr>\n",
       "    <tr>\n",
       "      <th>47</th>\n",
       "      <td>0.503227</td>\n",
       "      <td>0.508786</td>\n",
       "      <td>0.9965</td>\n",
       "      <td>0.0</td>\n",
       "    </tr>\n",
       "    <tr>\n",
       "      <th>48</th>\n",
       "      <td>0.503227</td>\n",
       "      <td>0.508786</td>\n",
       "      <td>0.9965</td>\n",
       "      <td>0.0</td>\n",
       "    </tr>\n",
       "    <tr>\n",
       "      <th>49</th>\n",
       "      <td>0.503227</td>\n",
       "      <td>0.508786</td>\n",
       "      <td>0.9965</td>\n",
       "      <td>0.0</td>\n",
       "    </tr>\n",
       "    <tr>\n",
       "      <th>...</th>\n",
       "      <td>...</td>\n",
       "      <td>...</td>\n",
       "      <td>...</td>\n",
       "      <td>...</td>\n",
       "    </tr>\n",
       "    <tr>\n",
       "      <th>156</th>\n",
       "      <td>0.503227</td>\n",
       "      <td>0.508786</td>\n",
       "      <td>0.9965</td>\n",
       "      <td>0.0</td>\n",
       "    </tr>\n",
       "    <tr>\n",
       "      <th>157</th>\n",
       "      <td>0.503227</td>\n",
       "      <td>0.508786</td>\n",
       "      <td>0.9965</td>\n",
       "      <td>0.0</td>\n",
       "    </tr>\n",
       "    <tr>\n",
       "      <th>158</th>\n",
       "      <td>0.503227</td>\n",
       "      <td>0.508786</td>\n",
       "      <td>0.9965</td>\n",
       "      <td>0.0</td>\n",
       "    </tr>\n",
       "    <tr>\n",
       "      <th>159</th>\n",
       "      <td>0.503227</td>\n",
       "      <td>0.508786</td>\n",
       "      <td>0.9965</td>\n",
       "      <td>0.0</td>\n",
       "    </tr>\n",
       "    <tr>\n",
       "      <th>160</th>\n",
       "      <td>0.503227</td>\n",
       "      <td>0.508786</td>\n",
       "      <td>0.9965</td>\n",
       "      <td>0.0</td>\n",
       "    </tr>\n",
       "  </tbody>\n",
       "</table>\n",
       "<p>116 rows × 4 columns</p>\n",
       "</div>"
      ],
      "text/plain": [
       "            A         B       C    D\n",
       "45   0.503227  0.508786  0.9965  0.0\n",
       "46   0.503227  0.508786  0.9965  0.0\n",
       "47   0.503227  0.508786  0.9965  0.0\n",
       "48   0.503227  0.508786  0.9965  0.0\n",
       "49   0.503227  0.508786  0.9965  0.0\n",
       "..        ...       ...     ...  ...\n",
       "156  0.503227  0.508786  0.9965  0.0\n",
       "157  0.503227  0.508786  0.9965  0.0\n",
       "158  0.503227  0.508786  0.9965  0.0\n",
       "159  0.503227  0.508786  0.9965  0.0\n",
       "160  0.503227  0.508786  0.9965  0.0\n",
       "\n",
       "[116 rows x 4 columns]"
      ]
     },
     "execution_count": 8,
     "metadata": {},
     "output_type": "execute_result"
    }
   ],
   "source": [
    "df1[45: 161]"
   ]
  },
  {
   "cell_type": "markdown",
   "id": "cd0c8492",
   "metadata": {},
   "source": [
    "### Сгенерировать два числовых набора и добавить в них выбросы"
   ]
  },
  {
   "cell_type": "code",
   "execution_count": 9,
   "id": "026efc60",
   "metadata": {},
   "outputs": [
    {
     "data": {
      "text/html": [
       "<div>\n",
       "<style scoped>\n",
       "    .dataframe tbody tr th:only-of-type {\n",
       "        vertical-align: middle;\n",
       "    }\n",
       "\n",
       "    .dataframe tbody tr th {\n",
       "        vertical-align: top;\n",
       "    }\n",
       "\n",
       "    .dataframe thead th {\n",
       "        text-align: right;\n",
       "    }\n",
       "</style>\n",
       "<table border=\"1\" class=\"dataframe\">\n",
       "  <thead>\n",
       "    <tr style=\"text-align: right;\">\n",
       "      <th></th>\n",
       "      <th>A</th>\n",
       "      <th>B</th>\n",
       "    </tr>\n",
       "  </thead>\n",
       "  <tbody>\n",
       "    <tr>\n",
       "      <th>0</th>\n",
       "      <td>2.185248</td>\n",
       "      <td>6.149427</td>\n",
       "    </tr>\n",
       "    <tr>\n",
       "      <th>1</th>\n",
       "      <td>1.374479</td>\n",
       "      <td>1.178976</td>\n",
       "    </tr>\n",
       "    <tr>\n",
       "      <th>2</th>\n",
       "      <td>6.427988</td>\n",
       "      <td>1.754329</td>\n",
       "    </tr>\n",
       "    <tr>\n",
       "      <th>3</th>\n",
       "      <td>1.386972</td>\n",
       "      <td>6.875243</td>\n",
       "    </tr>\n",
       "    <tr>\n",
       "      <th>4</th>\n",
       "      <td>1.224998</td>\n",
       "      <td>8.617782</td>\n",
       "    </tr>\n",
       "    <tr>\n",
       "      <th>...</th>\n",
       "      <td>...</td>\n",
       "      <td>...</td>\n",
       "    </tr>\n",
       "    <tr>\n",
       "      <th>995</th>\n",
       "      <td>3.625453</td>\n",
       "      <td>4.381904</td>\n",
       "    </tr>\n",
       "    <tr>\n",
       "      <th>996</th>\n",
       "      <td>2.331467</td>\n",
       "      <td>1.624949</td>\n",
       "    </tr>\n",
       "    <tr>\n",
       "      <th>997</th>\n",
       "      <td>7.021160</td>\n",
       "      <td>1.881546</td>\n",
       "    </tr>\n",
       "    <tr>\n",
       "      <th>998</th>\n",
       "      <td>7.388037</td>\n",
       "      <td>7.480684</td>\n",
       "    </tr>\n",
       "    <tr>\n",
       "      <th>999</th>\n",
       "      <td>1.362762</td>\n",
       "      <td>2.076716</td>\n",
       "    </tr>\n",
       "  </tbody>\n",
       "</table>\n",
       "<p>1000 rows × 2 columns</p>\n",
       "</div>"
      ],
      "text/plain": [
       "            A         B\n",
       "0    2.185248  6.149427\n",
       "1    1.374479  1.178976\n",
       "2    6.427988  1.754329\n",
       "3    1.386972  6.875243\n",
       "4    1.224998  8.617782\n",
       "..        ...       ...\n",
       "995  3.625453  4.381904\n",
       "996  2.331467  1.624949\n",
       "997  7.021160  1.881546\n",
       "998  7.388037  7.480684\n",
       "999  1.362762  2.076716\n",
       "\n",
       "[1000 rows x 2 columns]"
      ]
     },
     "execution_count": 9,
     "metadata": {},
     "output_type": "execute_result"
    }
   ],
   "source": [
    "# Cгенерируем два столбца (нормальное распределение) со средним значением 3 и стандартным отклонением 2.5\n",
    "df2=pd.DataFrame(np.random.normal(3, 2.5, size=(1000, 2)), columns=list('AB'))\n",
    "df2"
   ]
  },
  {
   "cell_type": "markdown",
   "id": "e45a3491",
   "metadata": {},
   "source": [
    "### Построим гистограмы"
   ]
  },
  {
   "cell_type": "code",
   "execution_count": 10,
   "id": "fa702613",
   "metadata": {},
   "outputs": [
    {
     "data": {
      "text/plain": [
       "Text(0.5, 1.0, 'Распределение B')"
      ]
     },
     "execution_count": 10,
     "metadata": {},
     "output_type": "execute_result"
    },
    {
     "data": {
      "image/png": "[encoded data removed]",
      "text/plain": [
       "<Figure size 1080x360 with 2 Axes>"
      ]
     },
     "metadata": {},
     "output_type": "display_data"
    }
   ],
   "source": [
    "# Посмотрим на распределения столбцов\n",
    "fig, ax = plt.subplots(nrows=1, ncols=2, figsize=(15,5))\n",
    "\n",
    "# Выводим Гистограмму\n",
    "# столбец А\n",
    "sns.histplot(df2.A, ax=ax[0], color='red')\n",
    "ax[0].set_title('распределение A', size=15)\n",
    "\n",
    "# Столбец B\n",
    "sns.histplot(df2.B, ax=ax[1])\n",
    "ax[1].set_title('Распределение B', size=15)\n"
   ]
  },
  {
   "cell_type": "code",
   "execution_count": 11,
   "id": "2eb2bc07",
   "metadata": {},
   "outputs": [],
   "source": [
    "# Добавим выбросы\n",
    "df2.A[995 : 999] = np.arange(30, 34, 1)\n",
    "df2.B[990 : 994] = np.arange(35, 39, 1)"
   ]
  },
  {
   "cell_type": "markdown",
   "id": "1e4cb416",
   "metadata": {},
   "source": [
    "### Построим гистограмы с выбросами"
   ]
  },
  {
   "cell_type": "code",
   "execution_count": 12,
   "id": "41c2ba03",
   "metadata": {},
   "outputs": [
    {
     "name": "stderr",
     "output_type": "stream",
     "text": [
      "C:\\Users\\eguze\\anaconda3\\lib\\site-packages\\seaborn\\_decorators.py:36: FutureWarning: Pass the following variable as a keyword arg: x. From version 0.12, the only valid positional argument will be `data`, and passing other arguments without an explicit keyword will result in an error or misinterpretation.\n",
      "  warnings.warn(\n",
      "C:\\Users\\eguze\\anaconda3\\lib\\site-packages\\seaborn\\_decorators.py:36: FutureWarning: Pass the following variable as a keyword arg: x. From version 0.12, the only valid positional argument will be `data`, and passing other arguments without an explicit keyword will result in an error or misinterpretation.\n",
      "  warnings.warn(\n"
     ]
    },
    {
     "data": {
      "text/plain": [
       "Text(0.5, 1.0, 'Распределение B (clean)')"
      ]
     },
     "execution_count": 12,
     "metadata": {},
     "output_type": "execute_result"
    },
    {
     "data": {
      "image/png": "[encoded data removed]",
      "text/plain": [
       "<Figure size 1080x1080 with 4 Axes>"
      ]
     },
     "metadata": {},
     "output_type": "display_data"
    }
   ],
   "source": [
    "# Посмотрим на распределения столбцов\n",
    "fig, ax = plt.subplots(nrows=2, ncols=2, figsize=(15,15))\n",
    "\n",
    "# Выводим Гистограмму\n",
    "# столбец А\n",
    "sns.histplot(df2.A, ax=ax[0, 0], color='red')\n",
    "ax[0, 0].set_title('распределение A', size=15)\n",
    "\n",
    "# Столбец B\n",
    "sns.histplot(df2.B, ax=ax[0,1])\n",
    "ax[0, 1].set_title('Распределение B', size=15)\n",
    "\n",
    "# Выводим боксплот\n",
    "sns.boxplot(df2.A, ax=ax[1,0], color='red')\n",
    "ax[1,0].set_title('распределение A (clean)', size=15)\n",
    "\n",
    "# Столбец B\n",
    "sns.boxplot(df2.B, ax=ax[1,1])\n",
    "ax[1,1].set_title('Распределение B (clean)', size=15)"
   ]
  },
  {
   "cell_type": "markdown",
   "id": "2acdb3aa",
   "metadata": {},
   "source": [
    "### Почистим данные от выбросов"
   ]
  },
  {
   "cell_type": "markdown",
   "id": "c41698d8",
   "metadata": {},
   "source": [
    "### Column A"
   ]
  },
  {
   "cell_type": "code",
   "execution_count": 13,
   "id": "414acf19",
   "metadata": {},
   "outputs": [],
   "source": [
    "#Почистим данные от выбросов столбец A\n",
    "# Наблюдаемое отклонение от среднего\n",
    "dev1 = (df2.A-df2.A.mean()).abs()\n",
    "# Стандартное отклонение\n",
    "std1 = df2.A.std()\n",
    "# Фильтруем исходный набор данных\n",
    "df_trimmed1= df2[~(dev1>3*std1)].copy()"
   ]
  },
  {
   "cell_type": "markdown",
   "id": "c1031d73",
   "metadata": {},
   "source": [
    "### Column B"
   ]
  },
  {
   "cell_type": "code",
   "execution_count": 14,
   "id": "a2b1f015",
   "metadata": {},
   "outputs": [],
   "source": [
    "#Почистим данные от выбросов столбец B\n",
    "# Наблюдаемое отклонение от среднего\n",
    "dev2 = (df_trimmed1.B-df_trimmed1.B.mean()).abs()\n",
    "# Стандартное отклонение\n",
    "std2 = df_trimmed1.B.std()\n",
    "# Фильтруем исходный набор данных\n",
    "df_trimmed2= df_trimmed1[~(dev2>3*std2)].copy()"
   ]
  },
  {
   "cell_type": "markdown",
   "id": "c1516488",
   "metadata": {},
   "source": [
    "### Для проверки построим гистограммы"
   ]
  },
  {
   "cell_type": "code",
   "execution_count": 15,
   "id": "ef2c611a",
   "metadata": {},
   "outputs": [
    {
     "name": "stderr",
     "output_type": "stream",
     "text": [
      "C:\\Users\\eguze\\anaconda3\\lib\\site-packages\\seaborn\\_decorators.py:36: FutureWarning: Pass the following variable as a keyword arg: x. From version 0.12, the only valid positional argument will be `data`, and passing other arguments without an explicit keyword will result in an error or misinterpretation.\n",
      "  warnings.warn(\n",
      "C:\\Users\\eguze\\anaconda3\\lib\\site-packages\\seaborn\\_decorators.py:36: FutureWarning: Pass the following variable as a keyword arg: x. From version 0.12, the only valid positional argument will be `data`, and passing other arguments without an explicit keyword will result in an error or misinterpretation.\n",
      "  warnings.warn(\n"
     ]
    },
    {
     "data": {
      "text/plain": [
       "Text(0.5, 1.0, 'Распределение B (clean)')"
      ]
     },
     "execution_count": 15,
     "metadata": {},
     "output_type": "execute_result"
    },
    {
     "data": {
      "image/png": "[encoded data removed]",
      "text/plain": [
       "<Figure size 1080x1080 with 4 Axes>"
      ]
     },
     "metadata": {},
     "output_type": "display_data"
    }
   ],
   "source": [
    "# Посмотрим на распределения столбцов\n",
    "fig, ax = plt.subplots(nrows=2, ncols=2, figsize=(15,15))\n",
    "\n",
    "# Выводим Гистограмму\n",
    "# столбец А\n",
    "sns.histplot(df_trimmed2.A, ax=ax[0,0], color='red')\n",
    "ax[0,0].set_title('распределение A (clean)', size=15)\n",
    "\n",
    "# Столбец B\n",
    "sns.histplot(df_trimmed2.B, ax=ax[0,1])\n",
    "ax[0,1].set_title('Распределение B (clean)', size=15)\n",
    "\n",
    "# Выводим боксплот\n",
    "sns.boxplot(df_trimmed2.A, ax=ax[1,0], color='red')\n",
    "ax[1,0].set_title('распределение A (clean)', size=15)\n",
    "\n",
    "# Столбец B\n",
    "sns.boxplot(df_trimmed2.B, ax=ax[1,1])\n",
    "ax[1,1].set_title('Распределение B (clean)', size=15)"
   ]
  },
  {
   "cell_type": "markdown",
   "id": "7e5fd3bc",
   "metadata": {},
   "source": [
    "### Задание 5 Разобрать пример с мультиколинеарностью "
   ]
  },
  {
   "cell_type": "markdown",
   "id": "ddffe472",
   "metadata": {},
   "source": [
    "Мультиколлинеарность - это условие когда одна предсказательная переменная может быть выражена как линейная комбинация других"
   ]
  },
  {
   "cell_type": "markdown",
   "id": "10bd4d7c",
   "metadata": {},
   "source": [
    "### Пример"
   ]
  },
  {
   "cell_type": "code",
   "execution_count": 19,
   "id": "2f214b08",
   "metadata": {},
   "outputs": [
    {
     "data": {
      "text/html": [
       "<div>\n",
       "<style scoped>\n",
       "    .dataframe tbody tr th:only-of-type {\n",
       "        vertical-align: middle;\n",
       "    }\n",
       "\n",
       "    .dataframe tbody tr th {\n",
       "        vertical-align: top;\n",
       "    }\n",
       "\n",
       "    .dataframe thead th {\n",
       "        text-align: right;\n",
       "    }\n",
       "</style>\n",
       "<table border=\"1\" class=\"dataframe\">\n",
       "  <thead>\n",
       "    <tr style=\"text-align: right;\">\n",
       "      <th></th>\n",
       "      <th>A</th>\n",
       "      <th>B</th>\n",
       "      <th>C</th>\n",
       "      <th>D</th>\n",
       "    </tr>\n",
       "  </thead>\n",
       "  <tbody>\n",
       "    <tr>\n",
       "      <th>0</th>\n",
       "      <td>0.009110</td>\n",
       "      <td>0.949713</td>\n",
       "      <td>0.662117</td>\n",
       "      <td>0.399193</td>\n",
       "    </tr>\n",
       "    <tr>\n",
       "      <th>1</th>\n",
       "      <td>0.087032</td>\n",
       "      <td>0.843266</td>\n",
       "      <td>0.501570</td>\n",
       "      <td>0.539102</td>\n",
       "    </tr>\n",
       "    <tr>\n",
       "      <th>2</th>\n",
       "      <td>0.584836</td>\n",
       "      <td>0.400529</td>\n",
       "      <td>0.811799</td>\n",
       "      <td>0.356570</td>\n",
       "    </tr>\n",
       "    <tr>\n",
       "      <th>3</th>\n",
       "      <td>0.880657</td>\n",
       "      <td>0.623991</td>\n",
       "      <td>0.069402</td>\n",
       "      <td>0.877748</td>\n",
       "    </tr>\n",
       "    <tr>\n",
       "      <th>4</th>\n",
       "      <td>0.624858</td>\n",
       "      <td>0.531020</td>\n",
       "      <td>0.247530</td>\n",
       "      <td>0.286252</td>\n",
       "    </tr>\n",
       "    <tr>\n",
       "      <th>...</th>\n",
       "      <td>...</td>\n",
       "      <td>...</td>\n",
       "      <td>...</td>\n",
       "      <td>...</td>\n",
       "    </tr>\n",
       "    <tr>\n",
       "      <th>995</th>\n",
       "      <td>0.937575</td>\n",
       "      <td>0.502854</td>\n",
       "      <td>0.766795</td>\n",
       "      <td>0.951548</td>\n",
       "    </tr>\n",
       "    <tr>\n",
       "      <th>996</th>\n",
       "      <td>0.014697</td>\n",
       "      <td>0.059563</td>\n",
       "      <td>0.411563</td>\n",
       "      <td>0.209806</td>\n",
       "    </tr>\n",
       "    <tr>\n",
       "      <th>997</th>\n",
       "      <td>0.133207</td>\n",
       "      <td>0.839608</td>\n",
       "      <td>0.572799</td>\n",
       "      <td>0.579824</td>\n",
       "    </tr>\n",
       "    <tr>\n",
       "      <th>998</th>\n",
       "      <td>0.240146</td>\n",
       "      <td>0.413602</td>\n",
       "      <td>0.949450</td>\n",
       "      <td>0.378557</td>\n",
       "    </tr>\n",
       "    <tr>\n",
       "      <th>999</th>\n",
       "      <td>0.425614</td>\n",
       "      <td>0.018894</td>\n",
       "      <td>0.353363</td>\n",
       "      <td>0.426780</td>\n",
       "    </tr>\n",
       "  </tbody>\n",
       "</table>\n",
       "<p>1000 rows × 4 columns</p>\n",
       "</div>"
      ],
      "text/plain": [
       "            A         B         C         D\n",
       "0    0.009110  0.949713  0.662117  0.399193\n",
       "1    0.087032  0.843266  0.501570  0.539102\n",
       "2    0.584836  0.400529  0.811799  0.356570\n",
       "3    0.880657  0.623991  0.069402  0.877748\n",
       "4    0.624858  0.531020  0.247530  0.286252\n",
       "..        ...       ...       ...       ...\n",
       "995  0.937575  0.502854  0.766795  0.951548\n",
       "996  0.014697  0.059563  0.411563  0.209806\n",
       "997  0.133207  0.839608  0.572799  0.579824\n",
       "998  0.240146  0.413602  0.949450  0.378557\n",
       "999  0.425614  0.018894  0.353363  0.426780\n",
       "\n",
       "[1000 rows x 4 columns]"
      ]
     },
     "execution_count": 19,
     "metadata": {},
     "output_type": "execute_result"
    }
   ],
   "source": [
    "# Сгенерируем датафрейм\n",
    "df_ex=pd.DataFrame(np.random.rand(1000, 4), columns=list('ABCD'))\n",
    "df_ex"
   ]
  },
  {
   "cell_type": "code",
   "execution_count": 28,
   "id": "1180a095",
   "metadata": {},
   "outputs": [],
   "source": [
    "# Добавим столбцы У и F выразим их через линейную функцию y = kx + b\n",
    "\n",
    "df_ex['E'] = df_ex['A'] * 2\n",
    "df_ex['F'] = df_ex['C'] * 3"
   ]
  },
  {
   "cell_type": "code",
   "execution_count": 30,
   "id": "59a0610a",
   "metadata": {},
   "outputs": [
    {
     "data": {
      "text/html": [
       "<div>\n",
       "<style scoped>\n",
       "    .dataframe tbody tr th:only-of-type {\n",
       "        vertical-align: middle;\n",
       "    }\n",
       "\n",
       "    .dataframe tbody tr th {\n",
       "        vertical-align: top;\n",
       "    }\n",
       "\n",
       "    .dataframe thead th {\n",
       "        text-align: right;\n",
       "    }\n",
       "</style>\n",
       "<table border=\"1\" class=\"dataframe\">\n",
       "  <thead>\n",
       "    <tr style=\"text-align: right;\">\n",
       "      <th></th>\n",
       "      <th>A</th>\n",
       "      <th>B</th>\n",
       "      <th>C</th>\n",
       "      <th>D</th>\n",
       "      <th>E</th>\n",
       "    </tr>\n",
       "  </thead>\n",
       "  <tbody>\n",
       "    <tr>\n",
       "      <th>0</th>\n",
       "      <td>0.009110</td>\n",
       "      <td>0.949713</td>\n",
       "      <td>0.662117</td>\n",
       "      <td>0.399193</td>\n",
       "      <td>0.018220</td>\n",
       "    </tr>\n",
       "    <tr>\n",
       "      <th>1</th>\n",
       "      <td>0.087032</td>\n",
       "      <td>0.843266</td>\n",
       "      <td>0.501570</td>\n",
       "      <td>0.539102</td>\n",
       "      <td>0.174063</td>\n",
       "    </tr>\n",
       "    <tr>\n",
       "      <th>2</th>\n",
       "      <td>0.584836</td>\n",
       "      <td>0.400529</td>\n",
       "      <td>0.811799</td>\n",
       "      <td>0.356570</td>\n",
       "      <td>1.169671</td>\n",
       "    </tr>\n",
       "    <tr>\n",
       "      <th>3</th>\n",
       "      <td>0.880657</td>\n",
       "      <td>0.623991</td>\n",
       "      <td>0.069402</td>\n",
       "      <td>0.877748</td>\n",
       "      <td>1.761315</td>\n",
       "    </tr>\n",
       "    <tr>\n",
       "      <th>4</th>\n",
       "      <td>0.624858</td>\n",
       "      <td>0.531020</td>\n",
       "      <td>0.247530</td>\n",
       "      <td>0.286252</td>\n",
       "      <td>1.249716</td>\n",
       "    </tr>\n",
       "    <tr>\n",
       "      <th>...</th>\n",
       "      <td>...</td>\n",
       "      <td>...</td>\n",
       "      <td>...</td>\n",
       "      <td>...</td>\n",
       "      <td>...</td>\n",
       "    </tr>\n",
       "    <tr>\n",
       "      <th>995</th>\n",
       "      <td>0.937575</td>\n",
       "      <td>0.502854</td>\n",
       "      <td>0.766795</td>\n",
       "      <td>0.951548</td>\n",
       "      <td>1.875150</td>\n",
       "    </tr>\n",
       "    <tr>\n",
       "      <th>996</th>\n",
       "      <td>0.014697</td>\n",
       "      <td>0.059563</td>\n",
       "      <td>0.411563</td>\n",
       "      <td>0.209806</td>\n",
       "      <td>0.029394</td>\n",
       "    </tr>\n",
       "    <tr>\n",
       "      <th>997</th>\n",
       "      <td>0.133207</td>\n",
       "      <td>0.839608</td>\n",
       "      <td>0.572799</td>\n",
       "      <td>0.579824</td>\n",
       "      <td>0.266415</td>\n",
       "    </tr>\n",
       "    <tr>\n",
       "      <th>998</th>\n",
       "      <td>0.240146</td>\n",
       "      <td>0.413602</td>\n",
       "      <td>0.949450</td>\n",
       "      <td>0.378557</td>\n",
       "      <td>0.480292</td>\n",
       "    </tr>\n",
       "    <tr>\n",
       "      <th>999</th>\n",
       "      <td>0.425614</td>\n",
       "      <td>0.018894</td>\n",
       "      <td>0.353363</td>\n",
       "      <td>0.426780</td>\n",
       "      <td>0.851228</td>\n",
       "    </tr>\n",
       "  </tbody>\n",
       "</table>\n",
       "<p>1000 rows × 5 columns</p>\n",
       "</div>"
      ],
      "text/plain": [
       "            A         B         C         D         E\n",
       "0    0.009110  0.949713  0.662117  0.399193  0.018220\n",
       "1    0.087032  0.843266  0.501570  0.539102  0.174063\n",
       "2    0.584836  0.400529  0.811799  0.356570  1.169671\n",
       "3    0.880657  0.623991  0.069402  0.877748  1.761315\n",
       "4    0.624858  0.531020  0.247530  0.286252  1.249716\n",
       "..        ...       ...       ...       ...       ...\n",
       "995  0.937575  0.502854  0.766795  0.951548  1.875150\n",
       "996  0.014697  0.059563  0.411563  0.209806  0.029394\n",
       "997  0.133207  0.839608  0.572799  0.579824  0.266415\n",
       "998  0.240146  0.413602  0.949450  0.378557  0.480292\n",
       "999  0.425614  0.018894  0.353363  0.426780  0.851228\n",
       "\n",
       "[1000 rows x 5 columns]"
      ]
     },
     "execution_count": 30,
     "metadata": {},
     "output_type": "execute_result"
    }
   ],
   "source": [
    "df_ex"
   ]
  },
  {
   "cell_type": "code",
   "execution_count": 33,
   "id": "43e3f60d",
   "metadata": {},
   "outputs": [
    {
     "data": {
      "text/html": [
       "<div>\n",
       "<style scoped>\n",
       "    .dataframe tbody tr th:only-of-type {\n",
       "        vertical-align: middle;\n",
       "    }\n",
       "\n",
       "    .dataframe tbody tr th {\n",
       "        vertical-align: top;\n",
       "    }\n",
       "\n",
       "    .dataframe thead th {\n",
       "        text-align: right;\n",
       "    }\n",
       "</style>\n",
       "<table border=\"1\" class=\"dataframe\">\n",
       "  <thead>\n",
       "    <tr style=\"text-align: right;\">\n",
       "      <th></th>\n",
       "      <th>A</th>\n",
       "      <th>B</th>\n",
       "      <th>C</th>\n",
       "      <th>D</th>\n",
       "      <th>E</th>\n",
       "    </tr>\n",
       "  </thead>\n",
       "  <tbody>\n",
       "    <tr>\n",
       "      <th>A</th>\n",
       "      <td>1.000000</td>\n",
       "      <td>-0.032767</td>\n",
       "      <td>-0.020082</td>\n",
       "      <td>0.005146</td>\n",
       "      <td>1.000000</td>\n",
       "    </tr>\n",
       "    <tr>\n",
       "      <th>B</th>\n",
       "      <td>-0.032767</td>\n",
       "      <td>1.000000</td>\n",
       "      <td>0.011018</td>\n",
       "      <td>-0.045524</td>\n",
       "      <td>-0.032767</td>\n",
       "    </tr>\n",
       "    <tr>\n",
       "      <th>C</th>\n",
       "      <td>-0.020082</td>\n",
       "      <td>0.011018</td>\n",
       "      <td>1.000000</td>\n",
       "      <td>-0.008025</td>\n",
       "      <td>-0.020082</td>\n",
       "    </tr>\n",
       "    <tr>\n",
       "      <th>D</th>\n",
       "      <td>0.005146</td>\n",
       "      <td>-0.045524</td>\n",
       "      <td>-0.008025</td>\n",
       "      <td>1.000000</td>\n",
       "      <td>0.005146</td>\n",
       "    </tr>\n",
       "    <tr>\n",
       "      <th>E</th>\n",
       "      <td>1.000000</td>\n",
       "      <td>-0.032767</td>\n",
       "      <td>-0.020082</td>\n",
       "      <td>0.005146</td>\n",
       "      <td>1.000000</td>\n",
       "    </tr>\n",
       "  </tbody>\n",
       "</table>\n",
       "</div>"
      ],
      "text/plain": [
       "          A         B         C         D         E\n",
       "A  1.000000 -0.032767 -0.020082  0.005146  1.000000\n",
       "B -0.032767  1.000000  0.011018 -0.045524 -0.032767\n",
       "C -0.020082  0.011018  1.000000 -0.008025 -0.020082\n",
       "D  0.005146 -0.045524 -0.008025  1.000000  0.005146\n",
       "E  1.000000 -0.032767 -0.020082  0.005146  1.000000"
      ]
     },
     "execution_count": 33,
     "metadata": {},
     "output_type": "execute_result"
    }
   ],
   "source": [
    "# Проверим корелляцию\n",
    "df_ex.corr()"
   ]
  },
  {
   "cell_type": "code",
   "execution_count": 34,
   "id": "480fd5f2",
   "metadata": {},
   "outputs": [
    {
     "data": {
      "text/plain": [
       "<AxesSubplot:>"
      ]
     },
     "execution_count": 34,
     "metadata": {},
     "output_type": "execute_result"
    },
    {
     "data": {
      "image/png": "[encoded data removed]",
      "text/plain": [
       "<Figure size 720x720 with 2 Axes>"
      ]
     },
     "metadata": {},
     "output_type": "display_data"
    }
   ],
   "source": [
    "# Построим корялляционную матрицу\n",
    "fig = plt.figure(figsize=(10, 10))\n",
    "sns.heatmap(df_ex.corr(),annot=True,cmap='Blues')"
   ]
  },
  {
   "cell_type": "markdown",
   "id": "4357db94",
   "metadata": {},
   "source": [
    "### Удаление корелированных признаков"
   ]
  },
  {
   "cell_type": "code",
   "execution_count": 36,
   "id": "d750e44b",
   "metadata": {},
   "outputs": [],
   "source": [
    "# Удалим сильнокорелированные признаки\n",
    "def trimm_correlated(df_in, threshold):\n",
    "    '''Функция, которая удяляет из датасета корелированные признаки. threshold - это \n",
    "    предельное значение кореляции. '''\n",
    "    df_corr = df_in.corr()\n",
    "    df_not_correlated = ~(df_corr.mask(np.tril(np.ones([len(df_corr)]*2, dtype=bool))).abs() > threshold).any()\n",
    "    un_corr_idx = df_not_correlated.loc[df_not_correlated[df_not_correlated.index] == True].index\n",
    "    df_out = df_in[un_corr_idx]\n",
    "    return df_out"
   ]
  },
  {
   "cell_type": "code",
   "execution_count": 37,
   "id": "542f6e25",
   "metadata": {},
   "outputs": [],
   "source": [
    "df_clean_corr = trimm_correlated(df_ex, threshold=0.95)"
   ]
  },
  {
   "cell_type": "code",
   "execution_count": 38,
   "id": "b923bff7",
   "metadata": {},
   "outputs": [
    {
     "data": {
      "text/html": [
       "<div>\n",
       "<style scoped>\n",
       "    .dataframe tbody tr th:only-of-type {\n",
       "        vertical-align: middle;\n",
       "    }\n",
       "\n",
       "    .dataframe tbody tr th {\n",
       "        vertical-align: top;\n",
       "    }\n",
       "\n",
       "    .dataframe thead th {\n",
       "        text-align: right;\n",
       "    }\n",
       "</style>\n",
       "<table border=\"1\" class=\"dataframe\">\n",
       "  <thead>\n",
       "    <tr style=\"text-align: right;\">\n",
       "      <th></th>\n",
       "      <th>A</th>\n",
       "      <th>B</th>\n",
       "      <th>C</th>\n",
       "      <th>D</th>\n",
       "    </tr>\n",
       "  </thead>\n",
       "  <tbody>\n",
       "    <tr>\n",
       "      <th>0</th>\n",
       "      <td>0.009110</td>\n",
       "      <td>0.949713</td>\n",
       "      <td>0.662117</td>\n",
       "      <td>0.399193</td>\n",
       "    </tr>\n",
       "    <tr>\n",
       "      <th>1</th>\n",
       "      <td>0.087032</td>\n",
       "      <td>0.843266</td>\n",
       "      <td>0.501570</td>\n",
       "      <td>0.539102</td>\n",
       "    </tr>\n",
       "    <tr>\n",
       "      <th>2</th>\n",
       "      <td>0.584836</td>\n",
       "      <td>0.400529</td>\n",
       "      <td>0.811799</td>\n",
       "      <td>0.356570</td>\n",
       "    </tr>\n",
       "    <tr>\n",
       "      <th>3</th>\n",
       "      <td>0.880657</td>\n",
       "      <td>0.623991</td>\n",
       "      <td>0.069402</td>\n",
       "      <td>0.877748</td>\n",
       "    </tr>\n",
       "    <tr>\n",
       "      <th>4</th>\n",
       "      <td>0.624858</td>\n",
       "      <td>0.531020</td>\n",
       "      <td>0.247530</td>\n",
       "      <td>0.286252</td>\n",
       "    </tr>\n",
       "    <tr>\n",
       "      <th>...</th>\n",
       "      <td>...</td>\n",
       "      <td>...</td>\n",
       "      <td>...</td>\n",
       "      <td>...</td>\n",
       "    </tr>\n",
       "    <tr>\n",
       "      <th>995</th>\n",
       "      <td>0.937575</td>\n",
       "      <td>0.502854</td>\n",
       "      <td>0.766795</td>\n",
       "      <td>0.951548</td>\n",
       "    </tr>\n",
       "    <tr>\n",
       "      <th>996</th>\n",
       "      <td>0.014697</td>\n",
       "      <td>0.059563</td>\n",
       "      <td>0.411563</td>\n",
       "      <td>0.209806</td>\n",
       "    </tr>\n",
       "    <tr>\n",
       "      <th>997</th>\n",
       "      <td>0.133207</td>\n",
       "      <td>0.839608</td>\n",
       "      <td>0.572799</td>\n",
       "      <td>0.579824</td>\n",
       "    </tr>\n",
       "    <tr>\n",
       "      <th>998</th>\n",
       "      <td>0.240146</td>\n",
       "      <td>0.413602</td>\n",
       "      <td>0.949450</td>\n",
       "      <td>0.378557</td>\n",
       "    </tr>\n",
       "    <tr>\n",
       "      <th>999</th>\n",
       "      <td>0.425614</td>\n",
       "      <td>0.018894</td>\n",
       "      <td>0.353363</td>\n",
       "      <td>0.426780</td>\n",
       "    </tr>\n",
       "  </tbody>\n",
       "</table>\n",
       "<p>1000 rows × 4 columns</p>\n",
       "</div>"
      ],
      "text/plain": [
       "            A         B         C         D\n",
       "0    0.009110  0.949713  0.662117  0.399193\n",
       "1    0.087032  0.843266  0.501570  0.539102\n",
       "2    0.584836  0.400529  0.811799  0.356570\n",
       "3    0.880657  0.623991  0.069402  0.877748\n",
       "4    0.624858  0.531020  0.247530  0.286252\n",
       "..        ...       ...       ...       ...\n",
       "995  0.937575  0.502854  0.766795  0.951548\n",
       "996  0.014697  0.059563  0.411563  0.209806\n",
       "997  0.133207  0.839608  0.572799  0.579824\n",
       "998  0.240146  0.413602  0.949450  0.378557\n",
       "999  0.425614  0.018894  0.353363  0.426780\n",
       "\n",
       "[1000 rows x 4 columns]"
      ]
     },
     "execution_count": 38,
     "metadata": {},
     "output_type": "execute_result"
    }
   ],
   "source": [
    "df_clean_corr"
   ]
  },
  {
   "cell_type": "code",
   "execution_count": null,
   "id": "0353dc5b",
   "metadata": {},
   "outputs": [],
   "source": [
    "!"
   ]
  }
 ],
 "metadata": {
  "kernelspec": {
   "display_name": "Python 3",
   "language": "python",
   "name": "python3"
  },
  "language_info": {
   "codemirror_mode": {
    "name": "ipython",
    "version": 3
   },
   "file_extension": ".py",
   "mimetype": "text/x-python",
   "name": "python",
   "nbconvert_exporter": "python",
   "pygments_lexer": "ipython3",
   "version": "3.8.8"
  }
 },
 "nbformat": 4,
 "nbformat_minor": 5
}
