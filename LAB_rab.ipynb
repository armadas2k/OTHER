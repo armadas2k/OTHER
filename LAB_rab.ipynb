{
 "cells": [
  {
   "cell_type": "markdown",
   "id": "0b494b9c",
   "metadata": {},
   "source": [
    "# Лабораторная работа "
   ]
  },
  {
   "cell_type": "markdown",
   "id": "bf2cec33",
   "metadata": {},
   "source": [
    "## 1 Вычисление экспоненты через рекурсию"
   ]
  },
  {
   "cell_type": "code",
   "execution_count": 410,
   "id": "d3d5d72f",
   "metadata": {},
   "outputs": [],
   "source": [
    "# Глобальные переменные\n",
    "p=1.0\n",
    "f=1.0\n",
    "\n",
    "def exp(x, n):\n",
    "    global p, f\n",
    "    # Условие\n",
    "    if n==0:\n",
    "        return 1\n",
    "    r = exp(x, n-1)\n",
    "    \n",
    "    p = p * x\n",
    "    # факториал\n",
    "    f =f * n\n",
    "    return (r + p/f)"
   ]
  },
  {
   "cell_type": "code",
   "execution_count": 411,
   "id": "31f6850f",
   "metadata": {},
   "outputs": [
    {
     "data": {
      "text/plain": [
       "2.718281828458995"
      ]
     },
     "execution_count": 411,
     "metadata": {},
     "output_type": "execute_result"
    }
   ],
   "source": [
    "\n",
    "x=1\n",
    "n=15\n",
    "exp(x, n)"
   ]
  },
  {
   "cell_type": "markdown",
   "id": "458c6409",
   "metadata": {},
   "source": [
    "## Сортировка"
   ]
  },
  {
   "cell_type": "markdown",
   "id": "42a32304",
   "metadata": {},
   "source": [
    "### 1 Сортировка пузырьком.\n",
    "- Сложность $O(n^2)$\n",
    "- Используется только как обучающий.\n",
    "- Есть улучшающие модификации"
   ]
  },
  {
   "cell_type": "code",
   "execution_count": 1,
   "id": "57ce2fa0",
   "metadata": {},
   "outputs": [],
   "source": [
    "def bubble_sort(data: list) -> list:\n",
    "    for i in range(len(data)-1): # Внешний цикл, n-1 проходов.\n",
    "        for j in range(len(data)-i-1): # Внутренний цикл. n-i-1 сравнений.\n",
    "            if data[j] > data[j+1]: \n",
    "                data[j], data[j+1] = data[j+1], data[j] # каждая пара сортируется по возрастанию\n",
    "    return data"
   ]
  },
  {
   "cell_type": "markdown",
   "id": "8f107665",
   "metadata": {},
   "source": [
    "### Проверка"
   ]
  },
  {
   "cell_type": "code",
   "execution_count": 2,
   "id": "a89cbe67",
   "metadata": {},
   "outputs": [
    {
     "name": "stdout",
     "output_type": "stream",
     "text": [
      "[45, 47, 39, 42, 4, 49, 18, 25, 32, 5, 43, 46, 8, 20, 33, 41, 11, 29, 38, 10, 2, 28, 44, 0, 16, 6, 9, 24, 37, 48, 21, 31, 26, 40, 1, 22, 14, 35, 15, 30, 3, 7, 19, 27, 36, 13, 17, 23, 12, 34]\n",
      "[0, 1, 2, 3, 4, 5, 6, 7, 8, 9, 10, 11, 12, 13, 14, 15, 16, 17, 18, 19, 20, 21, 22, 23, 24, 25, 26, 27, 28, 29, 30, 31, 32, 33, 34, 35, 36, 37, 38, 39, 40, 41, 42, 43, 44, 45, 46, 47, 48, 49]\n"
     ]
    }
   ],
   "source": [
    "import random\n",
    "bs_test_array = [i for i in range(50)]\n",
    "random.shuffle(bs_test_array)\n",
    "print(bs_test_array)\n",
    "print(bubble_sort(bs_test_array))"
   ]
  },
  {
   "cell_type": "markdown",
   "id": "f3cd2952",
   "metadata": {},
   "source": [
    "### 2 Сортировка выбором.\n",
    "- Быстрее пузырьковой сортировки, поскольку смена позиций элементов происходит только 1 раз во внутреннем цикле\n",
    "- Всё так же нестабильна как и пузырьковая\n",
    "- Сложность также $O(n^2)$ в худшем случае"
   ]
  },
  {
   "cell_type": "code",
   "execution_count": 3,
   "id": "4fd2b142",
   "metadata": {},
   "outputs": [],
   "source": [
    "def selection_sort(data: list) -> list:\n",
    "    for i in range(len(data)):\n",
    "        min_idx = i\n",
    "        for j in range(i+1, len(data)): # находим индекс минимального элемента в списке\n",
    "            if data[j] < data[min_idx]:\n",
    "                min_idx = j\n",
    "        data[i],data[min_idx] = data[min_idx],data[i] # меняем текущий элемент с минимальным местами\n",
    "    return data"
   ]
  },
  {
   "cell_type": "markdown",
   "id": "6f4729fe",
   "metadata": {},
   "source": [
    "### Проверка"
   ]
  },
  {
   "cell_type": "code",
   "execution_count": 4,
   "id": "564509ec",
   "metadata": {},
   "outputs": [
    {
     "name": "stdout",
     "output_type": "stream",
     "text": [
      "[3, 28, 10, 39, 12, 17, 33, 11, 31, 35, 13, 23, 0, 47, 14, 25, 5, 18, 9, 32, 46, 2, 6, 26, 21, 40, 44, 49, 19, 24, 42, 1, 34, 29, 7, 8, 43, 22, 41, 27, 37, 36, 48, 30, 4, 38, 20, 16, 45, 15]\n",
      "[0, 1, 2, 3, 4, 5, 6, 7, 8, 9, 10, 11, 12, 13, 14, 15, 16, 17, 18, 19, 20, 21, 22, 23, 24, 25, 26, 27, 28, 29, 30, 31, 32, 33, 34, 35, 36, 37, 38, 39, 40, 41, 42, 43, 44, 45, 46, 47, 48, 49]\n"
     ]
    }
   ],
   "source": [
    "import random\n",
    "bs_test_array = [i for i in range(50)]\n",
    "random.shuffle(bs_test_array)\n",
    "print(bs_test_array)\n",
    "print(selection_sort(bs_test_array))"
   ]
  },
  {
   "cell_type": "markdown",
   "id": "64938c53",
   "metadata": {},
   "source": [
    "###  3 Сортировка вставками\n",
    "- Временная сложность $O(n^2)$"
   ]
  },
  {
   "cell_type": "code",
   "execution_count": 13,
   "id": "6408121a",
   "metadata": {},
   "outputs": [],
   "source": [
    "def insertion_sort(data: list) -> list:\n",
    "    # цикл от 1 до конца массива.\n",
    "    for i in range(1,len(data)):\n",
    "        # сохраняем ключевой элемент(каждый раз новый)\n",
    "        key = data[i]\n",
    "        j = i-1 # смещаемся на 1 элемент назад\n",
    "        # далее поочерёдно проверяем элементы от текущего положения\n",
    "        # до начала массива. Если элемент больше ключевого, то смещаем его на 1 позицию вправо.\n",
    "        # после этого уменьшаем индекс и проверяем следующий элемент. Если и он больше ключевого,\n",
    "        # смещаем его тоже на 1 позицию вправо. И так до тех пор, пока не наткнемся на элемент меньше или равный ключевому,\n",
    "        # или доберёмся до начала массива. \n",
    "        # Таким образом мы последовательно смещаем весь массив со значениями больше ключевого - вправо.\n",
    "        while (j >= 0) and (data[j] > key):\n",
    "            data[j+1] = data[j]\n",
    "            j -=1\n",
    "        # и наконец вставляем ключевой элемент на нужную позицию (элемент слева - меньше или равен ключевому, элементы справ - больше)\n",
    "        data[j+1] = key\n",
    "    return data"
   ]
  },
  {
   "cell_type": "markdown",
   "id": "1de46dc8",
   "metadata": {},
   "source": [
    "### Проверка"
   ]
  },
  {
   "cell_type": "code",
   "execution_count": 14,
   "id": "49e3c8d4",
   "metadata": {},
   "outputs": [
    {
     "name": "stdout",
     "output_type": "stream",
     "text": [
      "[1, 5, 40, 43, 46, 7, 25, 2, 8, 23, 11, 31, 9, 22, 29, 37, 39, 48, 13, 6, 3, 47, 4, 36, 17, 10, 21, 35, 16, 33, 32, 27, 0, 20, 42, 49, 12, 34, 44, 26, 19, 28, 38, 30, 24, 18, 45, 41, 15, 14]\n",
      "[0, 1, 2, 3, 4, 5, 6, 7, 8, 9, 10, 11, 12, 13, 14, 15, 16, 17, 18, 19, 20, 21, 22, 23, 24, 25, 26, 27, 28, 29, 30, 31, 32, 33, 34, 35, 36, 37, 38, 39, 40, 41, 42, 43, 44, 45, 46, 47, 48, 49]\n"
     ]
    }
   ],
   "source": [
    "import random\n",
    "bs_test_array = [i for i in range(50)]\n",
    "random.shuffle(bs_test_array)\n",
    "print(bs_test_array)\n",
    "print(insertion_sort(bs_test_array))"
   ]
  },
  {
   "cell_type": "markdown",
   "id": "1ee0869c",
   "metadata": {},
   "source": [
    "##  Алгоритм К-ближайших соседей.(KNN, K-nearest neighbours)\n",
    "- Можно использовать для классификации(путём голосования) и для регрессии(путём усреднения)\n",
    "- Вероятно самый простой алгоритм.\n",
    "- В самом простом варианте - сильно неэффективный. Но при этом очень прост в реализации.\n",
    "- Коротко смысл: \n",
    " <br>есть обучающая выборка(train) в ней N объектов с признаками(features), для каждого объекта есть целевая переменная (target).\n",
    " <br>Есть тестовая выборка из M объектов, у которых есть только признаки. \n",
    " <br>Считаем расстояние (метрики можно использовать разные) от объекта из тестовой выборки до каждого объекта из обучающей.\n",
    " <br>Выбираем K (параметр заадём сами) ближайших по метрике объектов. Смотрим на их таргеты. \n",
    " <br>В случае классификации выбираем наиболее частый таргет среди этих K. В случае регрессии можем усреднить значение этих таргетов.\n",
    "- Для классификации можно принять важность каждого из К таргетов одинаковой, либо задать им веса, в зависимости от дистанции от тестового объекта.\n"
   ]
  },
  {
   "cell_type": "code",
   "execution_count": 412,
   "id": "0d68b96c",
   "metadata": {},
   "outputs": [],
   "source": [
    "# Импорт библиотек\n",
    "import numpy as np\n",
    "import pandas as pd\n",
    "import matplotlib.pyplot as plt\n",
    "from sklearn.neighbors import KNeighborsClassifier\n",
    "from sklearn.metrics import accuracy_score\n",
    "from sklearn import datasets"
   ]
  },
  {
   "cell_type": "code",
   "execution_count": 16,
   "id": "095af225",
   "metadata": {},
   "outputs": [
    {
     "name": "stdout",
     "output_type": "stream",
     "text": [
      "(0, 'setosa') (1, 'versicolor') (2, 'virginica')\n"
     ]
    },
    {
     "data": {
      "text/html": [
       "<div>\n",
       "<style scoped>\n",
       "    .dataframe tbody tr th:only-of-type {\n",
       "        vertical-align: middle;\n",
       "    }\n",
       "\n",
       "    .dataframe tbody tr th {\n",
       "        vertical-align: top;\n",
       "    }\n",
       "\n",
       "    .dataframe thead th {\n",
       "        text-align: right;\n",
       "    }\n",
       "</style>\n",
       "<table border=\"1\" class=\"dataframe\">\n",
       "  <thead>\n",
       "    <tr style=\"text-align: right;\">\n",
       "      <th></th>\n",
       "      <th>sepal length (cm)</th>\n",
       "      <th>sepal width (cm)</th>\n",
       "      <th>petal length (cm)</th>\n",
       "      <th>petal width (cm)</th>\n",
       "      <th>class</th>\n",
       "    </tr>\n",
       "  </thead>\n",
       "  <tbody>\n",
       "    <tr>\n",
       "      <th>117</th>\n",
       "      <td>7.7</td>\n",
       "      <td>3.8</td>\n",
       "      <td>6.7</td>\n",
       "      <td>2.2</td>\n",
       "      <td>2</td>\n",
       "    </tr>\n",
       "    <tr>\n",
       "      <th>127</th>\n",
       "      <td>6.1</td>\n",
       "      <td>3.0</td>\n",
       "      <td>4.9</td>\n",
       "      <td>1.8</td>\n",
       "      <td>2</td>\n",
       "    </tr>\n",
       "    <tr>\n",
       "      <th>56</th>\n",
       "      <td>6.3</td>\n",
       "      <td>3.3</td>\n",
       "      <td>4.7</td>\n",
       "      <td>1.6</td>\n",
       "      <td>1</td>\n",
       "    </tr>\n",
       "    <tr>\n",
       "      <th>129</th>\n",
       "      <td>7.2</td>\n",
       "      <td>3.0</td>\n",
       "      <td>5.8</td>\n",
       "      <td>1.6</td>\n",
       "      <td>2</td>\n",
       "    </tr>\n",
       "    <tr>\n",
       "      <th>103</th>\n",
       "      <td>6.3</td>\n",
       "      <td>2.9</td>\n",
       "      <td>5.6</td>\n",
       "      <td>1.8</td>\n",
       "      <td>2</td>\n",
       "    </tr>\n",
       "  </tbody>\n",
       "</table>\n",
       "</div>"
      ],
      "text/plain": [
       "     sepal length (cm)  sepal width (cm)  petal length (cm)  petal width (cm)  \\\n",
       "117                7.7               3.8                6.7               2.2   \n",
       "127                6.1               3.0                4.9               1.8   \n",
       "56                 6.3               3.3                4.7               1.6   \n",
       "129                7.2               3.0                5.8               1.6   \n",
       "103                6.3               2.9                5.6               1.8   \n",
       "\n",
       "     class  \n",
       "117      2  \n",
       "127      2  \n",
       "56       1  \n",
       "129      2  \n",
       "103      2  "
      ]
     },
     "execution_count": 16,
     "metadata": {},
     "output_type": "execute_result"
    }
   ],
   "source": [
    "# Загружаем датасет с ирисами Фишера\n",
    "iris_ds = datasets.load_iris()\n",
    "# Создаём датафрэйм\n",
    "df = pd.DataFrame(iris_ds.data, columns=iris_ds.feature_names)\n",
    "# Добавляем таргет\n",
    "df['class'] = iris_ds.target\n",
    "# Выводим соответствие таргета названию\n",
    "print(*[(t,n) for t,n in enumerate(iris_ds.target_names)])\n",
    "# Выводим случайные 5 строк датафрэйма\n",
    "df.sample(5)"
   ]
  },
  {
   "cell_type": "markdown",
   "id": "6f761389",
   "metadata": {},
   "source": [
    "- Нам нужно будет считать метрики. В большинстве случаев это Евклидова метрика. Но в общем случае это метрика Минковского. \n",
    "  <br>$\\large D(X,Y) = (\\sum\\limits_{i=1}^{n} |x_i-y_i|^p)^{1/p}$\n",
    "- Для некоторых задач используют косинусное расстояние.\n",
    "  <br>$\\large D_C(A,B) = 1-  \\frac {\\sum\\limits_{i=1}^{n}A_i \\cdot B_i}{\\sqrt{\\sum\\limits_{i=1}^{n}A_i^2} \\cdot \\sqrt{\\sum\\limits_{i=1}^{n}B_i^2}}$"
   ]
  },
  {
   "cell_type": "code",
   "execution_count": 18,
   "id": "f38761c1",
   "metadata": {},
   "outputs": [],
   "source": [
    "# Для удобства напишем отдельные функции для метрики Минковского и косинусного сходства.\n",
    "\n",
    "def my_minkowski(a,b,p):\n",
    "    return sum(abs(a-b)**p)**(1/p)\n",
    "\n",
    "def my_cosine(a,b):\n",
    "    return 1 - (a@b)/(sum(a**2)**0.5*sum(b**2)**0.5)"
   ]
  },
  {
   "cell_type": "code",
   "execution_count": 19,
   "id": "b74b6369",
   "metadata": {},
   "outputs": [
    {
     "name": "stdout",
     "output_type": "stream",
     "text": [
      "True\n",
      "True\n"
     ]
    }
   ],
   "source": [
    "# проверим всё ли корректно сравнив с реализациями из scipy\n",
    "\n",
    "from scipy.spatial.distance import minkowski, cosine\n",
    "\n",
    "a1 = df.iloc[0,:-1].values\n",
    "a2 = df.iloc[1,:-1].values\n",
    "\n",
    "print(my_minkowski(a1,a2,2) == minkowski(a1,a2,2))\n",
    "print(my_cosine(a1,a2) == cosine(a1,a2))"
   ]
  },
  {
   "cell_type": "code",
   "execution_count": 20,
   "id": "8058ecc1",
   "metadata": {},
   "outputs": [],
   "source": [
    "# Подготовим данные.\n",
    "\n",
    "from sklearn.model_selection import train_test_split\n",
    "from sklearn.preprocessing import StandardScaler\n",
    "\n",
    "X = df.drop('class', axis=1)\n",
    "y = df['class']\n",
    "\n",
    "# Разобьём на тренировочную и тестовую выборки\n",
    "X_train, X_test, y_train, y_test = train_test_split(X,y,test_size=0.25,random_state=1)\n",
    "\n",
    "# Нормализуем\n",
    "scaler = StandardScaler()\n",
    "X_train = scaler.fit_transform(X_train)\n",
    "X_test = scaler.transform(X_test)"
   ]
  },
  {
   "cell_type": "code",
   "execution_count": 21,
   "id": "dfe988e7",
   "metadata": {},
   "outputs": [],
   "source": [
    "def my_knn(X_train,X_test,y_train, metric='minkowski', p=1, k=5):\n",
    "    # Создаём пустой массив для предсказаний\n",
    "    res = np.array([], dtype='int')\n",
    "    # Для каждого объекта из тестовой выборки\n",
    "    for elem in X_test:\n",
    "        # В зависимости от выбранной метрики\n",
    "        if metric == 'minkowski':\n",
    "            # Считаем дистанции до всех объектов обучающей выборки\n",
    "            distances = np.apply_along_axis(lambda x: my_minkowski(x,elem,p), axis=1, arr=X_train)\n",
    "        elif metric == 'cosine':\n",
    "            distances = np.apply_along_axis(lambda x: my_cosine(x,elem), axis=1, arr=X_train)\n",
    "        # Конвертим в pd.Series, индекс задаём как у y_train. Чтобы удобно было сортировать.\n",
    "        distances = pd.Series(data=distances,index=y_train.index)\n",
    "        # Сортируем дистанции, выбираем k наименьших, по их индексам фильтруем y_train\n",
    "        # После ищем моду(наиболее часто встречающееся значение), на случай если их несколько берём только первый элемент\n",
    "        y_hat = y_train[distances.sort_values()[:k].index].mode()[0]\n",
    "        # Записываем в результирующий массив\n",
    "        res = np.append(res,y_hat)\n",
    "    return res"
   ]
  },
  {
   "cell_type": "code",
   "execution_count": 22,
   "id": "bdf89524",
   "metadata": {},
   "outputs": [
    {
     "name": "stdout",
     "output_type": "stream",
     "text": [
      "Manhattan distance: 0.9736842105263158\n",
      "Euclidean distance: 0.9736842105263158\n",
      "Cosine distance: 0.8157894736842105\n"
     ]
    }
   ],
   "source": [
    "# Тестируем\n",
    "# Манхэттенское расстояние\n",
    "my_res = my_knn(X_train,X_test,y_train)\n",
    "print('Manhattan distance:',accuracy_score(y_test,my_res))\n",
    "\n",
    "# Евклидово расстояние\n",
    "my_res = my_knn(X_train,X_test,y_train,p=2)\n",
    "print('Euclidean distance:', accuracy_score(y_test,my_res))\n",
    "\n",
    "# Косинусное расстояние\n",
    "my_res = my_knn(X_train,X_test,y_train, metric='cosine')\n",
    "print('Cosine distance:', accuracy_score(y_test,my_res))"
   ]
  },
  {
   "cell_type": "code",
   "execution_count": 23,
   "id": "ec339a56",
   "metadata": {},
   "outputs": [
    {
     "name": "stdout",
     "output_type": "stream",
     "text": [
      "Manhattan distance: 0.9736842105263158\n",
      "Euclidean distance: 0.9736842105263158\n",
      "Cosine distance: 0.8157894736842105\n"
     ]
    }
   ],
   "source": [
    "# Всё то же самое, но на базе sklearn-овского классификатора\n",
    "\n",
    "# Манхэттенское расстояние\n",
    "clf = KNeighborsClassifier(algorithm='brute',n_neighbors=5, p=1)\n",
    "clf.fit(X_train,y_train)\n",
    "test_res = clf.predict(X_test)\n",
    "print('Manhattan distance:',accuracy_score(y_test,test_res))\n",
    "\n",
    "# Евклидово расстояние\n",
    "clf = KNeighborsClassifier(algorithm='brute',n_neighbors=5, p=2)\n",
    "clf.fit(X_train,y_train)\n",
    "test_res = clf.predict(X_test)\n",
    "print('Euclidean distance:',accuracy_score(y_test,test_res))\n",
    "\n",
    "# Косинусное\n",
    "clf = KNeighborsClassifier(algorithm='brute',n_neighbors=5, metric='cosine')\n",
    "clf.fit(X_train,y_train)\n",
    "test_res = clf.predict(X_test)\n",
    "print('Cosine distance:',accuracy_score(y_test,test_res))"
   ]
  },
  {
   "cell_type": "markdown",
   "id": "ee0a9a29",
   "metadata": {},
   "source": [
    "# Анализ данных Титаник\n",
    "\n",
    "* `survived` показывает выжил ли пасажир или умер\n",
    "* `pclass` это класс, который выбрал пассажир\n",
    "* `sex` пол пассажира\n",
    "* `age` возраст пассажира\n",
    "* `SibSp` число братьев, сестер или супругов на борту\n",
    "* `Parch` количество родителей или детей\n",
    "* `Embarked` порт пассажира"
   ]
  },
  {
   "cell_type": "code",
   "execution_count": 25,
   "id": "648363bc",
   "metadata": {},
   "outputs": [],
   "source": [
    "import numpy as np\n",
    "import pandas as pd\n",
    "import matplotlib.pyplot as plt\n",
    "plt.style.use('fivethirtyeight')\n",
    "import seaborn as sns\n"
   ]
  },
  {
   "cell_type": "markdown",
   "id": "d25f3351",
   "metadata": {},
   "source": [
    "### Загрузка датасета"
   ]
  },
  {
   "cell_type": "code",
   "execution_count": 413,
   "id": "6d1485f3",
   "metadata": {},
   "outputs": [
    {
     "data": {
      "text/html": [
       "<div>\n",
       "<style scoped>\n",
       "    .dataframe tbody tr th:only-of-type {\n",
       "        vertical-align: middle;\n",
       "    }\n",
       "\n",
       "    .dataframe tbody tr th {\n",
       "        vertical-align: top;\n",
       "    }\n",
       "\n",
       "    .dataframe thead th {\n",
       "        text-align: right;\n",
       "    }\n",
       "</style>\n",
       "<table border=\"1\" class=\"dataframe\">\n",
       "  <thead>\n",
       "    <tr style=\"text-align: right;\">\n",
       "      <th></th>\n",
       "      <th>survived</th>\n",
       "      <th>pclass</th>\n",
       "      <th>name</th>\n",
       "      <th>sex</th>\n",
       "      <th>age</th>\n",
       "      <th>sibsp</th>\n",
       "      <th>parch</th>\n",
       "      <th>ticket</th>\n",
       "      <th>fare</th>\n",
       "      <th>cabin</th>\n",
       "      <th>embarked</th>\n",
       "    </tr>\n",
       "  </thead>\n",
       "  <tbody>\n",
       "    <tr>\n",
       "      <th>0</th>\n",
       "      <td>0</td>\n",
       "      <td>3</td>\n",
       "      <td>Braund, Mr. Owen Harris</td>\n",
       "      <td>male</td>\n",
       "      <td>22.0</td>\n",
       "      <td>1</td>\n",
       "      <td>0</td>\n",
       "      <td>A/5 21171</td>\n",
       "      <td>7.2500</td>\n",
       "      <td>NaN</td>\n",
       "      <td>S</td>\n",
       "    </tr>\n",
       "    <tr>\n",
       "      <th>1</th>\n",
       "      <td>1</td>\n",
       "      <td>1</td>\n",
       "      <td>Cumings, Mrs. John Bradley (Florence Briggs Th...</td>\n",
       "      <td>female</td>\n",
       "      <td>38.0</td>\n",
       "      <td>1</td>\n",
       "      <td>0</td>\n",
       "      <td>PC 17599</td>\n",
       "      <td>71.2833</td>\n",
       "      <td>C85</td>\n",
       "      <td>C</td>\n",
       "    </tr>\n",
       "    <tr>\n",
       "      <th>2</th>\n",
       "      <td>1</td>\n",
       "      <td>3</td>\n",
       "      <td>Heikkinen, Miss. Laina</td>\n",
       "      <td>female</td>\n",
       "      <td>26.0</td>\n",
       "      <td>0</td>\n",
       "      <td>0</td>\n",
       "      <td>STON/O2. 3101282</td>\n",
       "      <td>7.9250</td>\n",
       "      <td>NaN</td>\n",
       "      <td>S</td>\n",
       "    </tr>\n",
       "    <tr>\n",
       "      <th>3</th>\n",
       "      <td>1</td>\n",
       "      <td>1</td>\n",
       "      <td>Futrelle, Mrs. Jacques Heath (Lily May Peel)</td>\n",
       "      <td>female</td>\n",
       "      <td>35.0</td>\n",
       "      <td>1</td>\n",
       "      <td>0</td>\n",
       "      <td>113803</td>\n",
       "      <td>53.1000</td>\n",
       "      <td>C123</td>\n",
       "      <td>S</td>\n",
       "    </tr>\n",
       "    <tr>\n",
       "      <th>4</th>\n",
       "      <td>0</td>\n",
       "      <td>3</td>\n",
       "      <td>Allen, Mr. William Henry</td>\n",
       "      <td>male</td>\n",
       "      <td>35.0</td>\n",
       "      <td>0</td>\n",
       "      <td>0</td>\n",
       "      <td>373450</td>\n",
       "      <td>8.0500</td>\n",
       "      <td>NaN</td>\n",
       "      <td>S</td>\n",
       "    </tr>\n",
       "  </tbody>\n",
       "</table>\n",
       "</div>"
      ],
      "text/plain": [
       "   survived  pclass                                               name  \\\n",
       "0         0       3                            Braund, Mr. Owen Harris   \n",
       "1         1       1  Cumings, Mrs. John Bradley (Florence Briggs Th...   \n",
       "2         1       3                             Heikkinen, Miss. Laina   \n",
       "3         1       1       Futrelle, Mrs. Jacques Heath (Lily May Peel)   \n",
       "4         0       3                           Allen, Mr. William Henry   \n",
       "\n",
       "      sex   age  sibsp  parch            ticket     fare cabin embarked  \n",
       "0    male  22.0      1      0         A/5 21171   7.2500   NaN        S  \n",
       "1  female  38.0      1      0          PC 17599  71.2833   C85        C  \n",
       "2  female  26.0      0      0  STON/O2. 3101282   7.9250   NaN        S  \n",
       "3  female  35.0      1      0            113803  53.1000  C123        S  \n",
       "4    male  35.0      0      0            373450   8.0500   NaN        S  "
      ]
     },
     "execution_count": 413,
     "metadata": {},
     "output_type": "execute_result"
    }
   ],
   "source": [
    "url = \"https://raw.github.com/mattdelhey/kaggle-titanic/master/Data/train.csv\"\n",
    "titanic = pd.read_csv(url)\n",
    "# Создадим копию датасета\n",
    "df = titanic.copy()\n",
    "df.head(5)"
   ]
  },
  {
   "cell_type": "code",
   "execution_count": 271,
   "id": "db03c4cb",
   "metadata": {},
   "outputs": [
    {
     "data": {
      "text/html": [
       "<div>\n",
       "<style scoped>\n",
       "    .dataframe tbody tr th:only-of-type {\n",
       "        vertical-align: middle;\n",
       "    }\n",
       "\n",
       "    .dataframe tbody tr th {\n",
       "        vertical-align: top;\n",
       "    }\n",
       "\n",
       "    .dataframe thead th {\n",
       "        text-align: right;\n",
       "    }\n",
       "</style>\n",
       "<table border=\"1\" class=\"dataframe\">\n",
       "  <thead>\n",
       "    <tr style=\"text-align: right;\">\n",
       "      <th></th>\n",
       "      <th>Unnamed: 0</th>\n",
       "      <th>survived</th>\n",
       "      <th>pclass</th>\n",
       "      <th>name</th>\n",
       "      <th>sex</th>\n",
       "      <th>age</th>\n",
       "      <th>sibsp</th>\n",
       "      <th>parch</th>\n",
       "      <th>ticket</th>\n",
       "      <th>fare</th>\n",
       "      <th>cabin</th>\n",
       "      <th>embarked</th>\n",
       "    </tr>\n",
       "  </thead>\n",
       "  <tbody>\n",
       "    <tr>\n",
       "      <th>0</th>\n",
       "      <td>0</td>\n",
       "      <td>0</td>\n",
       "      <td>3</td>\n",
       "      <td>Braund, Mr. Owen Harris</td>\n",
       "      <td>male</td>\n",
       "      <td>22.0</td>\n",
       "      <td>1</td>\n",
       "      <td>0</td>\n",
       "      <td>A/5 21171</td>\n",
       "      <td>7.2500</td>\n",
       "      <td>NaN</td>\n",
       "      <td>S</td>\n",
       "    </tr>\n",
       "    <tr>\n",
       "      <th>1</th>\n",
       "      <td>1</td>\n",
       "      <td>1</td>\n",
       "      <td>1</td>\n",
       "      <td>Cumings, Mrs. John Bradley (Florence Briggs Th...</td>\n",
       "      <td>female</td>\n",
       "      <td>38.0</td>\n",
       "      <td>1</td>\n",
       "      <td>0</td>\n",
       "      <td>PC 17599</td>\n",
       "      <td>71.2833</td>\n",
       "      <td>C85</td>\n",
       "      <td>C</td>\n",
       "    </tr>\n",
       "    <tr>\n",
       "      <th>2</th>\n",
       "      <td>2</td>\n",
       "      <td>1</td>\n",
       "      <td>3</td>\n",
       "      <td>Heikkinen, Miss. Laina</td>\n",
       "      <td>female</td>\n",
       "      <td>26.0</td>\n",
       "      <td>0</td>\n",
       "      <td>0</td>\n",
       "      <td>STON/O2. 3101282</td>\n",
       "      <td>7.9250</td>\n",
       "      <td>NaN</td>\n",
       "      <td>S</td>\n",
       "    </tr>\n",
       "    <tr>\n",
       "      <th>3</th>\n",
       "      <td>3</td>\n",
       "      <td>1</td>\n",
       "      <td>1</td>\n",
       "      <td>Futrelle, Mrs. Jacques Heath (Lily May Peel)</td>\n",
       "      <td>female</td>\n",
       "      <td>35.0</td>\n",
       "      <td>1</td>\n",
       "      <td>0</td>\n",
       "      <td>113803</td>\n",
       "      <td>53.1000</td>\n",
       "      <td>C123</td>\n",
       "      <td>S</td>\n",
       "    </tr>\n",
       "    <tr>\n",
       "      <th>4</th>\n",
       "      <td>4</td>\n",
       "      <td>0</td>\n",
       "      <td>3</td>\n",
       "      <td>Allen, Mr. William Henry</td>\n",
       "      <td>male</td>\n",
       "      <td>35.0</td>\n",
       "      <td>0</td>\n",
       "      <td>0</td>\n",
       "      <td>373450</td>\n",
       "      <td>8.0500</td>\n",
       "      <td>NaN</td>\n",
       "      <td>S</td>\n",
       "    </tr>\n",
       "    <tr>\n",
       "      <th>...</th>\n",
       "      <td>...</td>\n",
       "      <td>...</td>\n",
       "      <td>...</td>\n",
       "      <td>...</td>\n",
       "      <td>...</td>\n",
       "      <td>...</td>\n",
       "      <td>...</td>\n",
       "      <td>...</td>\n",
       "      <td>...</td>\n",
       "      <td>...</td>\n",
       "      <td>...</td>\n",
       "      <td>...</td>\n",
       "    </tr>\n",
       "    <tr>\n",
       "      <th>886</th>\n",
       "      <td>886</td>\n",
       "      <td>0</td>\n",
       "      <td>2</td>\n",
       "      <td>Montvila, Rev. Juozas</td>\n",
       "      <td>male</td>\n",
       "      <td>27.0</td>\n",
       "      <td>0</td>\n",
       "      <td>0</td>\n",
       "      <td>211536</td>\n",
       "      <td>13.0000</td>\n",
       "      <td>NaN</td>\n",
       "      <td>S</td>\n",
       "    </tr>\n",
       "    <tr>\n",
       "      <th>887</th>\n",
       "      <td>887</td>\n",
       "      <td>1</td>\n",
       "      <td>1</td>\n",
       "      <td>Graham, Miss. Margaret Edith</td>\n",
       "      <td>female</td>\n",
       "      <td>19.0</td>\n",
       "      <td>0</td>\n",
       "      <td>0</td>\n",
       "      <td>112053</td>\n",
       "      <td>30.0000</td>\n",
       "      <td>B42</td>\n",
       "      <td>S</td>\n",
       "    </tr>\n",
       "    <tr>\n",
       "      <th>888</th>\n",
       "      <td>888</td>\n",
       "      <td>0</td>\n",
       "      <td>3</td>\n",
       "      <td>Johnston, Miss. Catherine Helen \"Carrie\"</td>\n",
       "      <td>female</td>\n",
       "      <td>NaN</td>\n",
       "      <td>1</td>\n",
       "      <td>2</td>\n",
       "      <td>W./C. 6607</td>\n",
       "      <td>23.4500</td>\n",
       "      <td>NaN</td>\n",
       "      <td>S</td>\n",
       "    </tr>\n",
       "    <tr>\n",
       "      <th>889</th>\n",
       "      <td>889</td>\n",
       "      <td>1</td>\n",
       "      <td>1</td>\n",
       "      <td>Behr, Mr. Karl Howell</td>\n",
       "      <td>male</td>\n",
       "      <td>26.0</td>\n",
       "      <td>0</td>\n",
       "      <td>0</td>\n",
       "      <td>111369</td>\n",
       "      <td>30.0000</td>\n",
       "      <td>C148</td>\n",
       "      <td>C</td>\n",
       "    </tr>\n",
       "    <tr>\n",
       "      <th>890</th>\n",
       "      <td>890</td>\n",
       "      <td>0</td>\n",
       "      <td>3</td>\n",
       "      <td>Dooley, Mr. Patrick</td>\n",
       "      <td>male</td>\n",
       "      <td>32.0</td>\n",
       "      <td>0</td>\n",
       "      <td>0</td>\n",
       "      <td>370376</td>\n",
       "      <td>7.7500</td>\n",
       "      <td>NaN</td>\n",
       "      <td>Q</td>\n",
       "    </tr>\n",
       "  </tbody>\n",
       "</table>\n",
       "<p>891 rows × 12 columns</p>\n",
       "</div>"
      ],
      "text/plain": [
       "     Unnamed: 0  survived  pclass  \\\n",
       "0             0         0       3   \n",
       "1             1         1       1   \n",
       "2             2         1       3   \n",
       "3             3         1       1   \n",
       "4             4         0       3   \n",
       "..          ...       ...     ...   \n",
       "886         886         0       2   \n",
       "887         887         1       1   \n",
       "888         888         0       3   \n",
       "889         889         1       1   \n",
       "890         890         0       3   \n",
       "\n",
       "                                                  name     sex   age  sibsp  \\\n",
       "0                              Braund, Mr. Owen Harris    male  22.0      1   \n",
       "1    Cumings, Mrs. John Bradley (Florence Briggs Th...  female  38.0      1   \n",
       "2                               Heikkinen, Miss. Laina  female  26.0      0   \n",
       "3         Futrelle, Mrs. Jacques Heath (Lily May Peel)  female  35.0      1   \n",
       "4                             Allen, Mr. William Henry    male  35.0      0   \n",
       "..                                                 ...     ...   ...    ...   \n",
       "886                              Montvila, Rev. Juozas    male  27.0      0   \n",
       "887                       Graham, Miss. Margaret Edith  female  19.0      0   \n",
       "888           Johnston, Miss. Catherine Helen \"Carrie\"  female   NaN      1   \n",
       "889                              Behr, Mr. Karl Howell    male  26.0      0   \n",
       "890                                Dooley, Mr. Patrick    male  32.0      0   \n",
       "\n",
       "     parch            ticket     fare cabin embarked  \n",
       "0        0         A/5 21171   7.2500   NaN        S  \n",
       "1        0          PC 17599  71.2833   C85        C  \n",
       "2        0  STON/O2. 3101282   7.9250   NaN        S  \n",
       "3        0            113803  53.1000  C123        S  \n",
       "4        0            373450   8.0500   NaN        S  \n",
       "..     ...               ...      ...   ...      ...  \n",
       "886      0            211536  13.0000   NaN        S  \n",
       "887      0            112053  30.0000   B42        S  \n",
       "888      2        W./C. 6607  23.4500   NaN        S  \n",
       "889      0            111369  30.0000  C148        C  \n",
       "890      0            370376   7.7500   NaN        Q  \n",
       "\n",
       "[891 rows x 12 columns]"
      ]
     },
     "execution_count": 271,
     "metadata": {},
     "output_type": "execute_result"
    }
   ],
   "source": [
    "# для работы оффлайн\n",
    "# Сохраним в csv\n",
    "#df.to_csv('titanic.csv')\n",
    "# df = pd.read_csv('titanic.csv')\n",
    "# df"
   ]
  },
  {
   "cell_type": "markdown",
   "id": "0fa83d1c",
   "metadata": {},
   "source": [
    "### Какое количество мужчин и женщин плыло на борту?"
   ]
  },
  {
   "cell_type": "code",
   "execution_count": 272,
   "id": "27fdd553",
   "metadata": {},
   "outputs": [
    {
     "data": {
      "text/html": [
       "<div>\n",
       "<style scoped>\n",
       "    .dataframe tbody tr th:only-of-type {\n",
       "        vertical-align: middle;\n",
       "    }\n",
       "\n",
       "    .dataframe tbody tr th {\n",
       "        vertical-align: top;\n",
       "    }\n",
       "\n",
       "    .dataframe thead th {\n",
       "        text-align: right;\n",
       "    }\n",
       "</style>\n",
       "<table border=\"1\" class=\"dataframe\">\n",
       "  <thead>\n",
       "    <tr style=\"text-align: right;\">\n",
       "      <th></th>\n",
       "      <th>sex</th>\n",
       "      <th>count</th>\n",
       "    </tr>\n",
       "  </thead>\n",
       "  <tbody>\n",
       "    <tr>\n",
       "      <th>0</th>\n",
       "      <td>female</td>\n",
       "      <td>314</td>\n",
       "    </tr>\n",
       "    <tr>\n",
       "      <th>1</th>\n",
       "      <td>male</td>\n",
       "      <td>577</td>\n",
       "    </tr>\n",
       "  </tbody>\n",
       "</table>\n",
       "</div>"
      ],
      "text/plain": [
       "      sex  count\n",
       "0  female    314\n",
       "1    male    577"
      ]
     },
     "execution_count": 272,
     "metadata": {},
     "output_type": "execute_result"
    }
   ],
   "source": [
    "df.groupby('sex')['sex'].agg(['count']).reset_index()"
   ]
  },
  {
   "cell_type": "markdown",
   "id": "b74bf928",
   "metadata": {},
   "source": [
    "Также можно найти количество мужчин и женщин через метод `value_counts`"
   ]
  },
  {
   "cell_type": "code",
   "execution_count": 273,
   "id": "a7e15027",
   "metadata": {},
   "outputs": [
    {
     "data": {
      "text/plain": [
       "male      577\n",
       "female    314\n",
       "Name: sex, dtype: int64"
      ]
     },
     "execution_count": 273,
     "metadata": {},
     "output_type": "execute_result"
    }
   ],
   "source": [
    "df['sex'].value_counts()"
   ]
  },
  {
   "cell_type": "markdown",
   "id": "2915c166",
   "metadata": {},
   "source": [
    "### Порстроим барплот"
   ]
  },
  {
   "cell_type": "code",
   "execution_count": 274,
   "id": "57289d5a",
   "metadata": {},
   "outputs": [
    {
     "name": "stderr",
     "output_type": "stream",
     "text": [
      "C:\\Users\\eguze\\anaconda3\\lib\\site-packages\\seaborn\\_decorators.py:36: FutureWarning: Pass the following variable as a keyword arg: x. From version 0.12, the only valid positional argument will be `data`, and passing other arguments without an explicit keyword will result in an error or misinterpretation.\n",
      "  warnings.warn(\n"
     ]
    },
    {
     "data": {
      "text/plain": [
       "Text(0.5, 1.0, 'Распределение мужчин и женщин')"
      ]
     },
     "execution_count": 274,
     "metadata": {},
     "output_type": "execute_result"
    },
    {
     "data": {
      "image/png": "[encoded data removed]",
      "text/plain": [
       "<Figure size 504x360 with 1 Axes>"
      ]
     },
     "metadata": {},
     "output_type": "display_data"
    }
   ],
   "source": [
    "# Сохраним группировку в переменную\n",
    "fig, ax = plt.subplots(nrows=1, ncols=1, figsize=(7,5))\n",
    "sns.countplot(df['sex'])\n",
    "plt.title('Распределение мужчин и женщин', size=10)"
   ]
  },
  {
   "cell_type": "markdown",
   "id": "97e7eaa7",
   "metadata": {},
   "source": [
    "### Какой части пассажиров удалось спастись?"
   ]
  },
  {
   "cell_type": "code",
   "execution_count": 275,
   "id": "0af8ee22",
   "metadata": {},
   "outputs": [
    {
     "name": "stdout",
     "output_type": "stream",
     "text": [
      "Ответ:\n",
      "доля выживших пассажиров составила: 38.38 %\n"
     ]
    }
   ],
   "source": [
    "survived_passengers = 100 * df[df['survived'] == 1]['survived'].count() /  df['survived'].count()\n",
    "print('Ответ:')\n",
    "print(f'доля выживших пассажиров составила: {round(survived_passengers, 2)} %')"
   ]
  },
  {
   "cell_type": "code",
   "execution_count": 276,
   "id": "be35e763",
   "metadata": {},
   "outputs": [
    {
     "data": {
      "text/plain": [
       "0    61.616162\n",
       "1    38.383838\n",
       "Name: survived, dtype: float64"
      ]
     },
     "execution_count": 276,
     "metadata": {},
     "output_type": "execute_result"
    }
   ],
   "source": [
    "# Можно посчитать по другому\n",
    "100 * df['survived'].value_counts()/df['survived'].count()"
   ]
  },
  {
   "cell_type": "markdown",
   "id": "7f66a0e9",
   "metadata": {},
   "source": [
    "### Какой доля мужчин и женщин среди выживших пассажиров?"
   ]
  },
  {
   "cell_type": "markdown",
   "id": "5f3822b3",
   "metadata": {},
   "source": [
    "Создадим датафрейм с соотношением выживших и не выживших"
   ]
  },
  {
   "cell_type": "code",
   "execution_count": 277,
   "id": "a8ab0f4d",
   "metadata": {},
   "outputs": [
    {
     "data": {
      "text/html": [
       "<div>\n",
       "<style scoped>\n",
       "    .dataframe tbody tr th:only-of-type {\n",
       "        vertical-align: middle;\n",
       "    }\n",
       "\n",
       "    .dataframe tbody tr th {\n",
       "        vertical-align: top;\n",
       "    }\n",
       "\n",
       "    .dataframe thead th {\n",
       "        text-align: right;\n",
       "    }\n",
       "</style>\n",
       "<table border=\"1\" class=\"dataframe\">\n",
       "  <thead>\n",
       "    <tr style=\"text-align: right;\">\n",
       "      <th></th>\n",
       "      <th>survived_sex</th>\n",
       "      <th>un_survived_sex</th>\n",
       "    </tr>\n",
       "  </thead>\n",
       "  <tbody>\n",
       "    <tr>\n",
       "      <th>female</th>\n",
       "      <td>26.15</td>\n",
       "      <td>73.85</td>\n",
       "    </tr>\n",
       "    <tr>\n",
       "      <th>male</th>\n",
       "      <td>12.23</td>\n",
       "      <td>87.77</td>\n",
       "    </tr>\n",
       "  </tbody>\n",
       "</table>\n",
       "</div>"
      ],
      "text/plain": [
       "        survived_sex  un_survived_sex\n",
       "female         26.15            73.85\n",
       "male           12.23            87.77"
      ]
     },
     "execution_count": 277,
     "metadata": {},
     "output_type": "execute_result"
    }
   ],
   "source": [
    "survived_sex = 100 * df[df['survived'] == 1]['sex'].value_counts() /  len(df)\n",
    "un_survived_sex = 100 - survived_sex\n",
    "df_sur = pd.DataFrame({ 'survived_sex' : np.round(survived_sex, 2),\n",
    "                      'un_survived_sex' : np.round(un_survived_sex, 2)})\n",
    "df_sur"
   ]
  },
  {
   "cell_type": "code",
   "execution_count": 176,
   "id": "cd67f00a",
   "metadata": {},
   "outputs": [
    {
     "data": {
      "text/plain": [
       "Text(0.5, 1.0, 'Соотношение выживших')"
      ]
     },
     "execution_count": 176,
     "metadata": {},
     "output_type": "execute_result"
    },
    {
     "data": {
      "image/png": "[encoded data removed]",
      "text/plain": [
       "<Figure size 432x288 with 1 Axes>"
      ]
     },
     "metadata": {},
     "output_type": "display_data"
    }
   ],
   "source": [
    "# Построим столбчатую диаграмму\n",
    "df_sur.plot.bar()\n",
    "plt.title('Соотношение выживших', size=10)"
   ]
  },
  {
   "cell_type": "code",
   "execution_count": 278,
   "id": "a1dff230",
   "metadata": {},
   "outputs": [
    {
     "name": "stdout",
     "output_type": "stream",
     "text": [
      "Ответ:\n",
      "После кораблекрушения выжило 26.15 % женщин и 12.23 % мужчин\n"
     ]
    }
   ],
   "source": [
    "print('Ответ:')\n",
    "print(f'После кораблекрушения выжило {df_sur.survived_sex[0]} % женщин и {df_sur.survived_sex[1]} % мужчин')"
   ]
  },
  {
   "cell_type": "markdown",
   "id": "01d92d55",
   "metadata": {},
   "source": [
    "### Какую долю пассажиры первого класса составляляли среди всех пассажиров ?"
   ]
  },
  {
   "cell_type": "code",
   "execution_count": 279,
   "id": "403c8712",
   "metadata": {},
   "outputs": [
    {
     "name": "stdout",
     "output_type": "stream",
     "text": [
      "Ответ:\n",
      "доля пассажиров первого класса составляла: 24.24 %\n"
     ]
    }
   ],
   "source": [
    "series_class = np.round(100 * df['pclass'].value_counts() / len(df), 2)\n",
    "print('Ответ:')\n",
    "print(f'доля пассажиров первого класса составляла: {series_class[1]} %')\n"
   ]
  },
  {
   "cell_type": "code",
   "execution_count": 280,
   "id": "8086fbed",
   "metadata": {},
   "outputs": [
    {
     "data": {
      "image/png": "[encoded data removed]",
      "text/plain": [
       "<Figure size 432x288 with 1 Axes>"
      ]
     },
     "metadata": {},
     "output_type": "display_data"
    }
   ],
   "source": [
    "# Построим график\n",
    "labels = ['class 3, class 1, class 2']\n",
    "series_class.plot.pie().legend(labels=labels, \n",
    "                               loc='center right', \n",
    "                               bbox_to_anchor=(2.25, 0.5)).set_title('Доли путешествующих в разных классах')"
   ]
  },
  {
   "cell_type": "markdown",
   "id": "57d358e5",
   "metadata": {},
   "source": [
    "### Какова доля пассажиров первого класса составляляли среди выживших пассажиров?"
   ]
  },
  {
   "cell_type": "code",
   "execution_count": 281,
   "id": "bfe89ff4",
   "metadata": {},
   "outputs": [
    {
     "name": "stdout",
     "output_type": "stream",
     "text": [
      "Ответ:\n",
      "доля выживших пассажиров первого класса составила: 39.77 %\n"
     ]
    }
   ],
   "source": [
    "# Фильтруем по выжившим\n",
    "filter_sur = df[df['survived'] == 1]\n",
    "series_sur_class = np.round(100 * filter_sur['pclass'].value_counts() / len(filter_sur), 2)\n",
    "print('Ответ:')\n",
    "print(f'доля выживших пассажиров первого класса составила: {series_sur_class[1]} %')"
   ]
  },
  {
   "cell_type": "code",
   "execution_count": 282,
   "id": "ae799b69",
   "metadata": {},
   "outputs": [
    {
     "data": {
      "text/plain": [
       "1    39.77\n",
       "3    34.80\n",
       "2    25.44\n",
       "Name: pclass, dtype: float64"
      ]
     },
     "execution_count": 282,
     "metadata": {},
     "output_type": "execute_result"
    }
   ],
   "source": [
    "series_sur_class"
   ]
  },
  {
   "cell_type": "code",
   "execution_count": 283,
   "id": "51934215",
   "metadata": {},
   "outputs": [
    {
     "data": {
      "text/plain": [
       "Text(0.5, 1.0, 'Доля выживших по классам')"
      ]
     },
     "execution_count": 283,
     "metadata": {},
     "output_type": "execute_result"
    },
    {
     "data": {
      "image/png": "[encoded data removed]",
      "text/plain": [
       "<Figure size 432x288 with 1 Axes>"
      ]
     },
     "metadata": {},
     "output_type": "display_data"
    }
   ],
   "source": [
    "# Построим график\n",
    "labels = ['class 1, class 3, class 2']\n",
    "series_sur_class.plot.pie().legend(labels=labels, \n",
    "                               loc='center right', \n",
    "                               bbox_to_anchor=(2.25, 0.5))\n",
    "plt.title('Доля выживших по классам')"
   ]
  },
  {
   "cell_type": "markdown",
   "id": "1f08fa37",
   "metadata": {},
   "source": [
    "## Какого возраста были пассажиры? Посчитайте среднюю и медиану. В качестве ответа приведите два числа через пробел"
   ]
  },
  {
   "cell_type": "code",
   "execution_count": 284,
   "id": "64d257ae",
   "metadata": {},
   "outputs": [
    {
     "name": "stdout",
     "output_type": "stream",
     "text": [
      "28.0 29.7\n"
     ]
    }
   ],
   "source": [
    "print(df.age.median(), np.round(df.age.mean(),2))"
   ]
  },
  {
   "cell_type": "code",
   "execution_count": 285,
   "id": "055108cf",
   "metadata": {},
   "outputs": [
    {
     "name": "stdout",
     "output_type": "stream",
     "text": [
      "Ответ:\n",
      "\n",
      "Медиана возраста среди пассажиров составляла: 28.0\n",
      "\n",
      "Средний возраст пассажиров составил: 29.7\n"
     ]
    }
   ],
   "source": [
    "# Более красивый ответ. Средний возраст округляем\n",
    "print('Ответ:')\n",
    "print()\n",
    "print(f'Медиана возраста среди пассажиров составляла: {df.age.median()}')\n",
    "print()\n",
    "print(f'Средний возраст пассажиров составил: {np.round(df.age.mean(),2)}')"
   ]
  },
  {
   "cell_type": "markdown",
   "id": "b8dd9bee",
   "metadata": {},
   "source": [
    "## Посчитайте эти же выражения среди выживших пассажиров"
   ]
  },
  {
   "cell_type": "code",
   "execution_count": 286,
   "id": "7f51dcaa",
   "metadata": {},
   "outputs": [
    {
     "name": "stdout",
     "output_type": "stream",
     "text": [
      "28.0 28.34\n"
     ]
    }
   ],
   "source": [
    "# Отфильтруем данные\n",
    "filter_sur = df[df['survived'] == 1]\n",
    "print(filter_sur.age.median(), np.round(filter_sur.age.mean(),2))"
   ]
  },
  {
   "cell_type": "code",
   "execution_count": 287,
   "id": "adf7cc3d",
   "metadata": {},
   "outputs": [
    {
     "name": "stdout",
     "output_type": "stream",
     "text": [
      "Ответ:\n",
      "\n",
      "Медиана возраста среди выживших пассажиров составила: 28.0\n",
      "\n",
      "Средний возраст выживших пассажиров составил: 28.34\n"
     ]
    }
   ],
   "source": [
    "# Более красивый ответ. Средний возраст округляем\n",
    "print('Ответ:')\n",
    "print()\n",
    "print(f'Медиана возраста среди выживших пассажиров составила: {filter_sur.age.median()}')\n",
    "print()\n",
    "print(f'Средний возраст выживших пассажиров составил: {np.round(filter_sur.age.mean(),2)}')"
   ]
  },
  {
   "cell_type": "markdown",
   "id": "1fc310b7",
   "metadata": {},
   "source": [
    "## Корреллирует ли число братьев и сестер с числом родителей детей?"
   ]
  },
  {
   "cell_type": "code",
   "execution_count": 288,
   "id": "b3001647",
   "metadata": {},
   "outputs": [
    {
     "name": "stdout",
     "output_type": "stream",
     "text": [
      "Корелляция между числом братьев и сестер с числом родителей составила: 0.41483769862015646\n",
      "Это говорит о средней кореляции\n",
      "Проверим нелинейную взаимосвязь\n"
     ]
    }
   ],
   "source": [
    "# Проверим кореляцию\n",
    "df.sibsp.corr(df.parch)\n",
    "print(f'Корелляция между числом братьев и сестер с числом родителей составила: {df.sibsp.corr(df.parch)}')\n",
    "print('Это говорит о средней кореляции')\n",
    "print('Проверим нелинейную взаимосвязь')"
   ]
  },
  {
   "cell_type": "markdown",
   "id": "60e6f703",
   "metadata": {},
   "source": [
    "### Проверим кореляцию phik"
   ]
  },
  {
   "cell_type": "code",
   "execution_count": 289,
   "id": "8ffbd5b7",
   "metadata": {},
   "outputs": [],
   "source": [
    "# pip install phik\n",
    "# Импортируем библиотеки\n",
    "import phik\n",
    "from phik.report import plot_correlation_matrix\n",
    "from phik import report"
   ]
  },
  {
   "cell_type": "code",
   "execution_count": 290,
   "id": "31fb9ebb",
   "metadata": {},
   "outputs": [
    {
     "name": "stdout",
     "output_type": "stream",
     "text": [
      "interval columns not set, guessing: ['Unnamed: 0', 'survived', 'pclass', 'age', 'sibsp', 'parch', 'fare']\n"
     ]
    }
   ],
   "source": [
    "phik_overview = df.phik_matrix()"
   ]
  },
  {
   "cell_type": "code",
   "execution_count": 291,
   "id": "57fc8173",
   "metadata": {},
   "outputs": [
    {
     "data": {
      "image/png": "[encoded data removed]",
      "text/plain": [
       "<Figure size 720x720 with 2 Axes>"
      ]
     },
     "metadata": {},
     "output_type": "display_data"
    }
   ],
   "source": [
    "plt.style.use('fivethirtyeight')\n",
    "fig = plt.figure(figsize=(10, 10))\n",
    "sns.heatmap(phik_overview,annot=True,cmap='Blues');"
   ]
  },
  {
   "cell_type": "markdown",
   "id": "9d9deb43",
   "metadata": {},
   "source": [
    "Тут видна кореляция между переменными 0.59. Это говорит, что связь между переменными присутствует.Построим точечный график"
   ]
  },
  {
   "cell_type": "code",
   "execution_count": 292,
   "id": "3d91ae72",
   "metadata": {},
   "outputs": [
    {
     "data": {
      "text/plain": [
       "Text(0.5, 1.0, 'Зависимость между количеством братьев и сестер и родителями')"
      ]
     },
     "execution_count": 292,
     "metadata": {},
     "output_type": "execute_result"
    },
    {
     "data": {
      "image/png": "[encoded data removed]",
      "text/plain": [
       "<Figure size 720x432 with 1 Axes>"
      ]
     },
     "metadata": {},
     "output_type": "display_data"
    }
   ],
   "source": [
    "plt.figure(figsize=(10, 6))\n",
    "plt.style.use('fivethirtyeight')\n",
    "sns.lineplot(x = df.parch , y=df.sibsp)\n",
    "plt.title('Зависимость между количеством братьев и сестер и родителями', size=15)"
   ]
  },
  {
   "cell_type": "markdown",
   "id": "807b49e2",
   "metadata": {},
   "source": [
    "## Какое самое популярное женское имя на корабле?"
   ]
  },
  {
   "cell_type": "code",
   "execution_count": 296,
   "id": "8ee17ac7",
   "metadata": {},
   "outputs": [
    {
     "data": {
      "text/html": [
       "<div>\n",
       "<style scoped>\n",
       "    .dataframe tbody tr th:only-of-type {\n",
       "        vertical-align: middle;\n",
       "    }\n",
       "\n",
       "    .dataframe tbody tr th {\n",
       "        vertical-align: top;\n",
       "    }\n",
       "\n",
       "    .dataframe thead th {\n",
       "        text-align: right;\n",
       "    }\n",
       "</style>\n",
       "<table border=\"1\" class=\"dataframe\">\n",
       "  <thead>\n",
       "    <tr style=\"text-align: right;\">\n",
       "      <th></th>\n",
       "      <th>index</th>\n",
       "      <th>name</th>\n",
       "    </tr>\n",
       "  </thead>\n",
       "  <tbody>\n",
       "    <tr>\n",
       "      <th>0</th>\n",
       "      <td>1</td>\n",
       "      <td>Cumings, Mrs. John Bradley (Florence Briggs Th...</td>\n",
       "    </tr>\n",
       "    <tr>\n",
       "      <th>1</th>\n",
       "      <td>2</td>\n",
       "      <td>Heikkinen, Miss. Laina</td>\n",
       "    </tr>\n",
       "    <tr>\n",
       "      <th>2</th>\n",
       "      <td>3</td>\n",
       "      <td>Futrelle, Mrs. Jacques Heath (Lily May Peel)</td>\n",
       "    </tr>\n",
       "    <tr>\n",
       "      <th>3</th>\n",
       "      <td>8</td>\n",
       "      <td>Johnson, Mrs. Oscar W (Elisabeth Vilhelmina Berg)</td>\n",
       "    </tr>\n",
       "    <tr>\n",
       "      <th>4</th>\n",
       "      <td>9</td>\n",
       "      <td>Nasser, Mrs. Nicholas (Adele Achem)</td>\n",
       "    </tr>\n",
       "    <tr>\n",
       "      <th>...</th>\n",
       "      <td>...</td>\n",
       "      <td>...</td>\n",
       "    </tr>\n",
       "    <tr>\n",
       "      <th>309</th>\n",
       "      <td>880</td>\n",
       "      <td>Shelley, Mrs. William (Imanita Parrish Hall)</td>\n",
       "    </tr>\n",
       "    <tr>\n",
       "      <th>310</th>\n",
       "      <td>882</td>\n",
       "      <td>Dahlberg, Miss. Gerda Ulrika</td>\n",
       "    </tr>\n",
       "    <tr>\n",
       "      <th>311</th>\n",
       "      <td>885</td>\n",
       "      <td>Rice, Mrs. William (Margaret Norton)</td>\n",
       "    </tr>\n",
       "    <tr>\n",
       "      <th>312</th>\n",
       "      <td>887</td>\n",
       "      <td>Graham, Miss. Margaret Edith</td>\n",
       "    </tr>\n",
       "    <tr>\n",
       "      <th>313</th>\n",
       "      <td>888</td>\n",
       "      <td>Johnston, Miss. Catherine Helen \"Carrie\"</td>\n",
       "    </tr>\n",
       "  </tbody>\n",
       "</table>\n",
       "<p>314 rows × 2 columns</p>\n",
       "</div>"
      ],
      "text/plain": [
       "     index                                               name\n",
       "0        1  Cumings, Mrs. John Bradley (Florence Briggs Th...\n",
       "1        2                             Heikkinen, Miss. Laina\n",
       "2        3       Futrelle, Mrs. Jacques Heath (Lily May Peel)\n",
       "3        8  Johnson, Mrs. Oscar W (Elisabeth Vilhelmina Berg)\n",
       "4        9                Nasser, Mrs. Nicholas (Adele Achem)\n",
       "..     ...                                                ...\n",
       "309    880       Shelley, Mrs. William (Imanita Parrish Hall)\n",
       "310    882                       Dahlberg, Miss. Gerda Ulrika\n",
       "311    885               Rice, Mrs. William (Margaret Norton)\n",
       "312    887                       Graham, Miss. Margaret Edith\n",
       "313    888           Johnston, Miss. Catherine Helen \"Carrie\"\n",
       "\n",
       "[314 rows x 2 columns]"
      ]
     },
     "execution_count": 296,
     "metadata": {},
     "output_type": "execute_result"
    }
   ],
   "source": [
    "df_sex = df[df['sex'] == 'female'].copy()\n",
    "df_sex_name = df_sex['name'].reset_index()\n",
    "df_sex_name"
   ]
  },
  {
   "cell_type": "markdown",
   "id": "566c4ed6",
   "metadata": {},
   "source": [
    "### Напишем функцию предобработки текста"
   ]
  },
  {
   "cell_type": "code",
   "execution_count": 304,
   "id": "b19e3a0a",
   "metadata": {},
   "outputs": [],
   "source": [
    "def preprocess(input_text):\n",
    "    \"\"\"\n",
    "    Функция для предобработки текста. Слова приводятся к нижнему регистру,\n",
    "    стоп-слова удаляются, далее слова лемматизируются\n",
    "    :param input_text: Входной текст для очистки и лемматизации\n",
    "    :return: Очищенный и лемматизированный текст\n",
    "    \"\"\"\n",
    "   \n",
    "    text = input_text.lower()\n",
    "    text1 = re.sub(r'[():*#;%^@&?,.]', ' ', input_text)\n",
    "    text2 = re.sub('  ', ' ', text1)\n",
    "    tokenized_text = text2.split(' ')\n",
    "    \n",
    "    return tokenized_text"
   ]
  },
  {
   "cell_type": "code",
   "execution_count": 305,
   "id": "8a66a78f",
   "metadata": {},
   "outputs": [],
   "source": [
    "# Применим функцию предобработки текста\n",
    "import re\n",
    "df_sex_name[\"text_processed\"] = df_sex_name.name.map(preprocess)"
   ]
  },
  {
   "cell_type": "code",
   "execution_count": 306,
   "id": "895b6f2f",
   "metadata": {},
   "outputs": [
    {
     "data": {
      "text/html": [
       "<div>\n",
       "<style scoped>\n",
       "    .dataframe tbody tr th:only-of-type {\n",
       "        vertical-align: middle;\n",
       "    }\n",
       "\n",
       "    .dataframe tbody tr th {\n",
       "        vertical-align: top;\n",
       "    }\n",
       "\n",
       "    .dataframe thead th {\n",
       "        text-align: right;\n",
       "    }\n",
       "</style>\n",
       "<table border=\"1\" class=\"dataframe\">\n",
       "  <thead>\n",
       "    <tr style=\"text-align: right;\">\n",
       "      <th></th>\n",
       "      <th>index</th>\n",
       "      <th>name</th>\n",
       "      <th>text_processed</th>\n",
       "    </tr>\n",
       "  </thead>\n",
       "  <tbody>\n",
       "    <tr>\n",
       "      <th>0</th>\n",
       "      <td>1</td>\n",
       "      <td>Cumings, Mrs. John Bradley (Florence Briggs Th...</td>\n",
       "      <td>[Cumings, Mrs, John, Bradley, Florence, Briggs...</td>\n",
       "    </tr>\n",
       "    <tr>\n",
       "      <th>1</th>\n",
       "      <td>2</td>\n",
       "      <td>Heikkinen, Miss. Laina</td>\n",
       "      <td>[Heikkinen, Miss, Laina]</td>\n",
       "    </tr>\n",
       "    <tr>\n",
       "      <th>2</th>\n",
       "      <td>3</td>\n",
       "      <td>Futrelle, Mrs. Jacques Heath (Lily May Peel)</td>\n",
       "      <td>[Futrelle, Mrs, Jacques, Heath, Lily, May, Pee...</td>\n",
       "    </tr>\n",
       "    <tr>\n",
       "      <th>3</th>\n",
       "      <td>8</td>\n",
       "      <td>Johnson, Mrs. Oscar W (Elisabeth Vilhelmina Berg)</td>\n",
       "      <td>[Johnson, Mrs, Oscar, W, Elisabeth, Vilhelmina...</td>\n",
       "    </tr>\n",
       "    <tr>\n",
       "      <th>4</th>\n",
       "      <td>9</td>\n",
       "      <td>Nasser, Mrs. Nicholas (Adele Achem)</td>\n",
       "      <td>[Nasser, Mrs, Nicholas, Adele, Achem, ]</td>\n",
       "    </tr>\n",
       "    <tr>\n",
       "      <th>...</th>\n",
       "      <td>...</td>\n",
       "      <td>...</td>\n",
       "      <td>...</td>\n",
       "    </tr>\n",
       "    <tr>\n",
       "      <th>309</th>\n",
       "      <td>880</td>\n",
       "      <td>Shelley, Mrs. William (Imanita Parrish Hall)</td>\n",
       "      <td>[Shelley, Mrs, William, Imanita, Parrish, Hall, ]</td>\n",
       "    </tr>\n",
       "    <tr>\n",
       "      <th>310</th>\n",
       "      <td>882</td>\n",
       "      <td>Dahlberg, Miss. Gerda Ulrika</td>\n",
       "      <td>[Dahlberg, Miss, Gerda, Ulrika]</td>\n",
       "    </tr>\n",
       "    <tr>\n",
       "      <th>311</th>\n",
       "      <td>885</td>\n",
       "      <td>Rice, Mrs. William (Margaret Norton)</td>\n",
       "      <td>[Rice, Mrs, William, Margaret, Norton, ]</td>\n",
       "    </tr>\n",
       "    <tr>\n",
       "      <th>312</th>\n",
       "      <td>887</td>\n",
       "      <td>Graham, Miss. Margaret Edith</td>\n",
       "      <td>[Graham, Miss, Margaret, Edith]</td>\n",
       "    </tr>\n",
       "    <tr>\n",
       "      <th>313</th>\n",
       "      <td>888</td>\n",
       "      <td>Johnston, Miss. Catherine Helen \"Carrie\"</td>\n",
       "      <td>[Johnston, Miss, Catherine, Helen, \"Carrie\"]</td>\n",
       "    </tr>\n",
       "  </tbody>\n",
       "</table>\n",
       "<p>314 rows × 3 columns</p>\n",
       "</div>"
      ],
      "text/plain": [
       "     index                                               name  \\\n",
       "0        1  Cumings, Mrs. John Bradley (Florence Briggs Th...   \n",
       "1        2                             Heikkinen, Miss. Laina   \n",
       "2        3       Futrelle, Mrs. Jacques Heath (Lily May Peel)   \n",
       "3        8  Johnson, Mrs. Oscar W (Elisabeth Vilhelmina Berg)   \n",
       "4        9                Nasser, Mrs. Nicholas (Adele Achem)   \n",
       "..     ...                                                ...   \n",
       "309    880       Shelley, Mrs. William (Imanita Parrish Hall)   \n",
       "310    882                       Dahlberg, Miss. Gerda Ulrika   \n",
       "311    885               Rice, Mrs. William (Margaret Norton)   \n",
       "312    887                       Graham, Miss. Margaret Edith   \n",
       "313    888           Johnston, Miss. Catherine Helen \"Carrie\"   \n",
       "\n",
       "                                        text_processed  \n",
       "0    [Cumings, Mrs, John, Bradley, Florence, Briggs...  \n",
       "1                             [Heikkinen, Miss, Laina]  \n",
       "2    [Futrelle, Mrs, Jacques, Heath, Lily, May, Pee...  \n",
       "3    [Johnson, Mrs, Oscar, W, Elisabeth, Vilhelmina...  \n",
       "4              [Nasser, Mrs, Nicholas, Adele, Achem, ]  \n",
       "..                                                 ...  \n",
       "309  [Shelley, Mrs, William, Imanita, Parrish, Hall, ]  \n",
       "310                    [Dahlberg, Miss, Gerda, Ulrika]  \n",
       "311           [Rice, Mrs, William, Margaret, Norton, ]  \n",
       "312                    [Graham, Miss, Margaret, Edith]  \n",
       "313       [Johnston, Miss, Catherine, Helen, \"Carrie\"]  \n",
       "\n",
       "[314 rows x 3 columns]"
      ]
     },
     "execution_count": 306,
     "metadata": {},
     "output_type": "execute_result"
    }
   ],
   "source": [
    "df_sex_name"
   ]
  },
  {
   "cell_type": "code",
   "execution_count": 307,
   "id": "7dd7acd3",
   "metadata": {},
   "outputs": [],
   "source": [
    "from sklearn.feature_extraction.text import CountVectorizer\n"
   ]
  },
  {
   "cell_type": "code",
   "execution_count": 343,
   "id": "2abfcbee",
   "metadata": {},
   "outputs": [],
   "source": [
    "vectorizer = CountVectorizer()\n",
    "X = vectorizer.fit_transform(df_sex_name['name'])\n",
    "word_list = vectorizer.get_feature_names()\n",
    "count_list = np.asarray(X.sum(axis=0))[0]\n",
    "dict_word = dict(zip(word_list, count_list))\n"
   ]
  },
  {
   "cell_type": "code",
   "execution_count": 327,
   "id": "0557dc0e",
   "metadata": {},
   "outputs": [
    {
     "data": {
      "text/html": [
       "<div>\n",
       "<style scoped>\n",
       "    .dataframe tbody tr th:only-of-type {\n",
       "        vertical-align: middle;\n",
       "    }\n",
       "\n",
       "    .dataframe tbody tr th {\n",
       "        vertical-align: top;\n",
       "    }\n",
       "\n",
       "    .dataframe thead th {\n",
       "        text-align: right;\n",
       "    }\n",
       "</style>\n",
       "<table border=\"1\" class=\"dataframe\">\n",
       "  <thead>\n",
       "    <tr style=\"text-align: right;\">\n",
       "      <th></th>\n",
       "      <th>abbott</th>\n",
       "      <th>abelson</th>\n",
       "      <th>achem</th>\n",
       "      <th>ada</th>\n",
       "      <th>adelaide</th>\n",
       "      <th>adele</th>\n",
       "      <th>adelia</th>\n",
       "      <th>adolfina</th>\n",
       "      <th>adrian</th>\n",
       "      <th>agatha</th>\n",
       "      <th>...</th>\n",
       "      <th>worth</th>\n",
       "      <th>wright</th>\n",
       "      <th>yarred</th>\n",
       "      <th>yasbeck</th>\n",
       "      <th>young</th>\n",
       "      <th>youssef</th>\n",
       "      <th>yrois</th>\n",
       "      <th>zabour</th>\n",
       "      <th>zebley</th>\n",
       "      <th>zillah</th>\n",
       "    </tr>\n",
       "  </thead>\n",
       "  <tbody>\n",
       "    <tr>\n",
       "      <th>0</th>\n",
       "      <td>1</td>\n",
       "      <td>1</td>\n",
       "      <td>1</td>\n",
       "      <td>5</td>\n",
       "      <td>1</td>\n",
       "      <td>2</td>\n",
       "      <td>1</td>\n",
       "      <td>1</td>\n",
       "      <td>1</td>\n",
       "      <td>1</td>\n",
       "      <td>...</td>\n",
       "      <td>1</td>\n",
       "      <td>1</td>\n",
       "      <td>1</td>\n",
       "      <td>1</td>\n",
       "      <td>1</td>\n",
       "      <td>1</td>\n",
       "      <td>1</td>\n",
       "      <td>2</td>\n",
       "      <td>1</td>\n",
       "      <td>1</td>\n",
       "    </tr>\n",
       "  </tbody>\n",
       "</table>\n",
       "<p>1 rows × 744 columns</p>\n",
       "</div>"
      ],
      "text/plain": [
       "   abbott  abelson  achem  ada  adelaide  adele  adelia  adolfina  adrian  \\\n",
       "0       1        1      1    5         1      2       1         1       1   \n",
       "\n",
       "   agatha  ...  worth  wright  yarred  yasbeck  young  youssef  yrois  zabour  \\\n",
       "0       1  ...      1       1       1        1      1        1      1       2   \n",
       "\n",
       "   zebley  zillah  \n",
       "0       1       1  \n",
       "\n",
       "[1 rows x 744 columns]"
      ]
     },
     "execution_count": 327,
     "metadata": {},
     "output_type": "execute_result"
    }
   ],
   "source": [
    "df_word = pd.DataFrame(dict_word, index=[0])\n",
    "df_word"
   ]
  },
  {
   "cell_type": "code",
   "execution_count": 336,
   "id": "9c81efba",
   "metadata": {},
   "outputs": [],
   "source": [
    "# Транспонируем датафрейм и отсортируем\n",
    "df_word_new = df_word.T\n",
    "df_word_new\n"
   ]
  },
  {
   "cell_type": "markdown",
   "id": "fd2b8dfb",
   "metadata": {},
   "source": [
    "Слова miss и mrs они ненужные. Уберем их датафрейма"
   ]
  },
  {
   "cell_type": "code",
   "execution_count": 340,
   "id": "40c814b1",
   "metadata": {},
   "outputs": [],
   "source": [
    "df_sort_name = df_word_new.sort_values(by=0, ascending=False)\n",
    "df_sort_name = df_sort_name[2:].head(10)"
   ]
  },
  {
   "cell_type": "code",
   "execution_count": 342,
   "id": "e568545c",
   "metadata": {},
   "outputs": [
    {
     "name": "stdout",
     "output_type": "stream",
     "text": [
      "ответ\n",
      "Наиболее часто встречающиеся имя является Mary, с таким именем 20 женщин\n"
     ]
    }
   ],
   "source": [
    "print('ответ')\n",
    "print('Наиболее часто встречающиеся имя является Mary, с таким именем 20 женщин')"
   ]
  },
  {
   "cell_type": "markdown",
   "id": "3f8c5406",
   "metadata": {},
   "source": [
    "# Кластеризация К средних "
   ]
  },
  {
   "cell_type": "code",
   "execution_count": 346,
   "id": "355e8212",
   "metadata": {},
   "outputs": [
    {
     "name": "stdout",
     "output_type": "stream",
     "text": [
      "(0, 'setosa') (1, 'versicolor') (2, 'virginica')\n"
     ]
    },
    {
     "data": {
      "text/html": [
       "<div>\n",
       "<style scoped>\n",
       "    .dataframe tbody tr th:only-of-type {\n",
       "        vertical-align: middle;\n",
       "    }\n",
       "\n",
       "    .dataframe tbody tr th {\n",
       "        vertical-align: top;\n",
       "    }\n",
       "\n",
       "    .dataframe thead th {\n",
       "        text-align: right;\n",
       "    }\n",
       "</style>\n",
       "<table border=\"1\" class=\"dataframe\">\n",
       "  <thead>\n",
       "    <tr style=\"text-align: right;\">\n",
       "      <th></th>\n",
       "      <th>sepal length (cm)</th>\n",
       "      <th>sepal width (cm)</th>\n",
       "      <th>petal length (cm)</th>\n",
       "      <th>petal width (cm)</th>\n",
       "      <th>class</th>\n",
       "    </tr>\n",
       "  </thead>\n",
       "  <tbody>\n",
       "    <tr>\n",
       "      <th>19</th>\n",
       "      <td>5.1</td>\n",
       "      <td>3.8</td>\n",
       "      <td>1.5</td>\n",
       "      <td>0.3</td>\n",
       "      <td>0</td>\n",
       "    </tr>\n",
       "    <tr>\n",
       "      <th>44</th>\n",
       "      <td>5.1</td>\n",
       "      <td>3.8</td>\n",
       "      <td>1.9</td>\n",
       "      <td>0.4</td>\n",
       "      <td>0</td>\n",
       "    </tr>\n",
       "    <tr>\n",
       "      <th>88</th>\n",
       "      <td>5.6</td>\n",
       "      <td>3.0</td>\n",
       "      <td>4.1</td>\n",
       "      <td>1.3</td>\n",
       "      <td>1</td>\n",
       "    </tr>\n",
       "    <tr>\n",
       "      <th>75</th>\n",
       "      <td>6.6</td>\n",
       "      <td>3.0</td>\n",
       "      <td>4.4</td>\n",
       "      <td>1.4</td>\n",
       "      <td>1</td>\n",
       "    </tr>\n",
       "    <tr>\n",
       "      <th>148</th>\n",
       "      <td>6.2</td>\n",
       "      <td>3.4</td>\n",
       "      <td>5.4</td>\n",
       "      <td>2.3</td>\n",
       "      <td>2</td>\n",
       "    </tr>\n",
       "  </tbody>\n",
       "</table>\n",
       "</div>"
      ],
      "text/plain": [
       "     sepal length (cm)  sepal width (cm)  petal length (cm)  petal width (cm)  \\\n",
       "19                 5.1               3.8                1.5               0.3   \n",
       "44                 5.1               3.8                1.9               0.4   \n",
       "88                 5.6               3.0                4.1               1.3   \n",
       "75                 6.6               3.0                4.4               1.4   \n",
       "148                6.2               3.4                5.4               2.3   \n",
       "\n",
       "     class  \n",
       "19       0  \n",
       "44       0  \n",
       "88       1  \n",
       "75       1  \n",
       "148      2  "
      ]
     },
     "execution_count": 346,
     "metadata": {},
     "output_type": "execute_result"
    }
   ],
   "source": [
    "# Загружаем датасет с ирисами Фишера\n",
    "iris_ds = datasets.load_iris()\n",
    "# Создаём датафрэйм\n",
    "df_iris = pd.DataFrame(iris_ds.data, columns=iris_ds.feature_names)\n",
    "# Добавляем таргет\n",
    "df_iris['class'] = iris_ds.target\n",
    "# Выводим соответствие таргета названию\n",
    "print(*[(t,n) for t,n in enumerate(iris_ds.target_names)])\n",
    "# Выводим случайные 5 строк датафрэйма\n",
    "df_iris.sample(5)"
   ]
  },
  {
   "cell_type": "code",
   "execution_count": 355,
   "id": "f249b182",
   "metadata": {},
   "outputs": [],
   "source": [
    "from sklearn.cluster import KMeans\n",
    "\n",
    "# Стандартизируем признаки\n",
    "scaler = StandardScaler()\n",
    "features_std = scaler.fit_transform(iris_ds.data)\n",
    "\n",
    "# Создаем модель\n",
    "kmeans = KMeans(n_clusters=3)\n",
    "\n",
    "# тренируем модель\n",
    "model = kmeans.fit(features_std)\n",
    "y_kmeans = kmeans.predict(features_std)"
   ]
  },
  {
   "cell_type": "code",
   "execution_count": 374,
   "id": "1fb1c340",
   "metadata": {},
   "outputs": [
    {
     "data": {
      "image/png": "[encoded data removed]",
      "text/plain": [
       "<Figure size 432x288 with 1 Axes>"
      ]
     },
     "metadata": {},
     "output_type": "display_data"
    }
   ],
   "source": [
    "plt.scatter(features_std[:, 0], features_std[:, 1], c=y_kmeans, s=50, cmap='flare_r')\n",
    "\n",
    "centers = kmeans.cluster_centers_\n",
    "plt.scatter(centers[:, 0], centers[:, 1], c='black', s=200, alpha=0.5);"
   ]
  },
  {
   "cell_type": "code",
   "execution_count": 358,
   "id": "228a4dca",
   "metadata": {},
   "outputs": [
    {
     "data": {
      "text/html": [
       "<svg  width=\"330\" height=\"55\"><rect x=\"0\" y=\"0\" width=\"55\" height=\"55\" style=\"fill:#008fd5;stroke-width:2;stroke:rgb(255,255,255)\"/><rect x=\"55\" y=\"0\" width=\"55\" height=\"55\" style=\"fill:#fc4f30;stroke-width:2;stroke:rgb(255,255,255)\"/><rect x=\"110\" y=\"0\" width=\"55\" height=\"55\" style=\"fill:#e5ae38;stroke-width:2;stroke:rgb(255,255,255)\"/><rect x=\"165\" y=\"0\" width=\"55\" height=\"55\" style=\"fill:#6d904f;stroke-width:2;stroke:rgb(255,255,255)\"/><rect x=\"220\" y=\"0\" width=\"55\" height=\"55\" style=\"fill:#8b8b8b;stroke-width:2;stroke:rgb(255,255,255)\"/><rect x=\"275\" y=\"0\" width=\"55\" height=\"55\" style=\"fill:#810f7c;stroke-width:2;stroke:rgb(255,255,255)\"/></svg>"
      ],
      "text/plain": [
       "[(0.0, 0.5607843137254902, 0.8352941176470589),\n",
       " (0.9882352941176471, 0.30980392156862746, 0.18823529411764706),\n",
       " (0.8980392156862745, 0.6823529411764706, 0.2196078431372549),\n",
       " (0.42745098039215684, 0.5647058823529412, 0.30980392156862746),\n",
       " (0.5450980392156862, 0.5450980392156862, 0.5450980392156862),\n",
       " (0.5058823529411764, 0.058823529411764705, 0.48627450980392156)]"
      ]
     },
     "execution_count": 358,
     "metadata": {},
     "output_type": "execute_result"
    }
   ],
   "source": [
    "sns.color_palette()"
   ]
  },
  {
   "cell_type": "code",
   "execution_count": null,
   "id": "c01c7d0a",
   "metadata": {},
   "outputs": [],
   "source": []
  }
 ],
 "metadata": {
  "kernelspec": {
   "display_name": "Python 3",
   "language": "python",
   "name": "python3"
  },
  "language_info": {
   "codemirror_mode": {
    "name": "ipython",
    "version": 3
   },
   "file_extension": ".py",
   "mimetype": "text/x-python",
   "name": "python",
   "nbconvert_exporter": "python",
   "pygments_lexer": "ipython3",
   "version": "3.8.8"
  }
 },
 "nbformat": 4,
 "nbformat_minor": 5
}
